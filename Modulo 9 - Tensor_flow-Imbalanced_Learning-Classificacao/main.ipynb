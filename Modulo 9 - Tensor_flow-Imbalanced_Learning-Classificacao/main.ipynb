{
 "cells": [
  {
   "cell_type": "code",
   "execution_count": 1,
   "metadata": {},
   "outputs": [],
   "source": [
    "import numpy as np\n",
    "import pandas as pd\n",
    "import matplotlib.pyplot as plt\n",
    "import seaborn as sns"
   ]
  },
  {
   "cell_type": "code",
   "execution_count": 18,
   "metadata": {},
   "outputs": [],
   "source": [
    "train = pd.read_csv('data/train.csv',index_col='NU_INSCRICAO')\n",
    "train.drop('Unnamed: 0',axis=1,inplace=True)\n",
    "test = pd.read_csv('data/test.csv',index_col='NU_INSCRICAO')"
   ]
  },
  {
   "cell_type": "code",
   "execution_count": 19,
   "metadata": {},
   "outputs": [
    {
     "output_type": "execute_result",
     "data": {
      "text/plain": "                                          NU_ANO  CO_MUNICIPIO_RESIDENCIA  \\\nNU_INSCRICAO                                                                \ned50e8aaa58e7a806c337585efee9ca41f1eb1ad    2016                  4314902   \n2c3acac4b33ec2b195d77e7c04a2d75727fad723    2016                  2304707   \nf4545f8ccb9ff5c8aad7d32951b3f251a26e6568    2016                  2304400   \n3d6ec248fef899c414e77f82d5c6d2bffbeaf7fe    2016                  3304557   \nbf896ac8d3ecadd6dba1dfbf50110afcbf5d3268    2016                  1302603   \n\n                                         NO_MUNICIPIO_RESIDENCIA  \\\nNU_INSCRICAO                                                       \ned50e8aaa58e7a806c337585efee9ca41f1eb1ad            Porto Alegre   \n2c3acac4b33ec2b195d77e7c04a2d75727fad723                  Granja   \nf4545f8ccb9ff5c8aad7d32951b3f251a26e6568               Fortaleza   \n3d6ec248fef899c414e77f82d5c6d2bffbeaf7fe          Rio de Janeiro   \nbf896ac8d3ecadd6dba1dfbf50110afcbf5d3268                  Manaus   \n\n                                          CO_UF_RESIDENCIA SG_UF_RESIDENCIA  \\\nNU_INSCRICAO                                                                  \ned50e8aaa58e7a806c337585efee9ca41f1eb1ad                43               RS   \n2c3acac4b33ec2b195d77e7c04a2d75727fad723                23               CE   \nf4545f8ccb9ff5c8aad7d32951b3f251a26e6568                23               CE   \n3d6ec248fef899c414e77f82d5c6d2bffbeaf7fe                33               RJ   \nbf896ac8d3ecadd6dba1dfbf50110afcbf5d3268                13               AM   \n\n                                          NU_IDADE TP_SEXO  TP_ESTADO_CIVIL  \\\nNU_INSCRICAO                                                                  \ned50e8aaa58e7a806c337585efee9ca41f1eb1ad        24       M              0.0   \n2c3acac4b33ec2b195d77e7c04a2d75727fad723        17       F              0.0   \nf4545f8ccb9ff5c8aad7d32951b3f251a26e6568        21       F              0.0   \n3d6ec248fef899c414e77f82d5c6d2bffbeaf7fe        25       F              0.0   \nbf896ac8d3ecadd6dba1dfbf50110afcbf5d3268        28       M              0.0   \n\n                                          TP_COR_RACA  TP_NACIONALIDADE  ...  \\\nNU_INSCRICAO                                                             ...   \ned50e8aaa58e7a806c337585efee9ca41f1eb1ad            1                 1  ...   \n2c3acac4b33ec2b195d77e7c04a2d75727fad723            3                 1  ...   \nf4545f8ccb9ff5c8aad7d32951b3f251a26e6568            3                 1  ...   \n3d6ec248fef899c414e77f82d5c6d2bffbeaf7fe            0                 1  ...   \nbf896ac8d3ecadd6dba1dfbf50110afcbf5d3268            2                 1  ...   \n\n                                          Q041 Q042  Q043 Q044  Q045  Q046  \\\nNU_INSCRICAO                                                                 \ned50e8aaa58e7a806c337585efee9ca41f1eb1ad   5.0    A     A    A     A     A   \n2c3acac4b33ec2b195d77e7c04a2d75727fad723   NaN    A     A    C     A     B   \nf4545f8ccb9ff5c8aad7d32951b3f251a26e6568   NaN    A     A    A     A     C   \n3d6ec248fef899c414e77f82d5c6d2bffbeaf7fe   5.0    C     A    A     A     A   \nbf896ac8d3ecadd6dba1dfbf50110afcbf5d3268   NaN    A     A    A     A     A   \n\n                                          Q047  Q048  Q049  Q050  \nNU_INSCRICAO                                                      \ned50e8aaa58e7a806c337585efee9ca41f1eb1ad     A     A     B     D  \n2c3acac4b33ec2b195d77e7c04a2d75727fad723     A     A     C     A  \nf4545f8ccb9ff5c8aad7d32951b3f251a26e6568     A     A     B     A  \n3d6ec248fef899c414e77f82d5c6d2bffbeaf7fe     D     A     A     A  \nbf896ac8d3ecadd6dba1dfbf50110afcbf5d3268     A     A     A     A  \n\n[5 rows x 165 columns]",
      "text/html": "<div>\n<style scoped>\n    .dataframe tbody tr th:only-of-type {\n        vertical-align: middle;\n    }\n\n    .dataframe tbody tr th {\n        vertical-align: top;\n    }\n\n    .dataframe thead th {\n        text-align: right;\n    }\n</style>\n<table border=\"1\" class=\"dataframe\">\n  <thead>\n    <tr style=\"text-align: right;\">\n      <th></th>\n      <th>NU_ANO</th>\n      <th>CO_MUNICIPIO_RESIDENCIA</th>\n      <th>NO_MUNICIPIO_RESIDENCIA</th>\n      <th>CO_UF_RESIDENCIA</th>\n      <th>SG_UF_RESIDENCIA</th>\n      <th>NU_IDADE</th>\n      <th>TP_SEXO</th>\n      <th>TP_ESTADO_CIVIL</th>\n      <th>TP_COR_RACA</th>\n      <th>TP_NACIONALIDADE</th>\n      <th>...</th>\n      <th>Q041</th>\n      <th>Q042</th>\n      <th>Q043</th>\n      <th>Q044</th>\n      <th>Q045</th>\n      <th>Q046</th>\n      <th>Q047</th>\n      <th>Q048</th>\n      <th>Q049</th>\n      <th>Q050</th>\n    </tr>\n    <tr>\n      <th>NU_INSCRICAO</th>\n      <th></th>\n      <th></th>\n      <th></th>\n      <th></th>\n      <th></th>\n      <th></th>\n      <th></th>\n      <th></th>\n      <th></th>\n      <th></th>\n      <th></th>\n      <th></th>\n      <th></th>\n      <th></th>\n      <th></th>\n      <th></th>\n      <th></th>\n      <th></th>\n      <th></th>\n      <th></th>\n      <th></th>\n    </tr>\n  </thead>\n  <tbody>\n    <tr>\n      <th>ed50e8aaa58e7a806c337585efee9ca41f1eb1ad</th>\n      <td>2016</td>\n      <td>4314902</td>\n      <td>Porto Alegre</td>\n      <td>43</td>\n      <td>RS</td>\n      <td>24</td>\n      <td>M</td>\n      <td>0.0</td>\n      <td>1</td>\n      <td>1</td>\n      <td>...</td>\n      <td>5.0</td>\n      <td>A</td>\n      <td>A</td>\n      <td>A</td>\n      <td>A</td>\n      <td>A</td>\n      <td>A</td>\n      <td>A</td>\n      <td>B</td>\n      <td>D</td>\n    </tr>\n    <tr>\n      <th>2c3acac4b33ec2b195d77e7c04a2d75727fad723</th>\n      <td>2016</td>\n      <td>2304707</td>\n      <td>Granja</td>\n      <td>23</td>\n      <td>CE</td>\n      <td>17</td>\n      <td>F</td>\n      <td>0.0</td>\n      <td>3</td>\n      <td>1</td>\n      <td>...</td>\n      <td>NaN</td>\n      <td>A</td>\n      <td>A</td>\n      <td>C</td>\n      <td>A</td>\n      <td>B</td>\n      <td>A</td>\n      <td>A</td>\n      <td>C</td>\n      <td>A</td>\n    </tr>\n    <tr>\n      <th>f4545f8ccb9ff5c8aad7d32951b3f251a26e6568</th>\n      <td>2016</td>\n      <td>2304400</td>\n      <td>Fortaleza</td>\n      <td>23</td>\n      <td>CE</td>\n      <td>21</td>\n      <td>F</td>\n      <td>0.0</td>\n      <td>3</td>\n      <td>1</td>\n      <td>...</td>\n      <td>NaN</td>\n      <td>A</td>\n      <td>A</td>\n      <td>A</td>\n      <td>A</td>\n      <td>C</td>\n      <td>A</td>\n      <td>A</td>\n      <td>B</td>\n      <td>A</td>\n    </tr>\n    <tr>\n      <th>3d6ec248fef899c414e77f82d5c6d2bffbeaf7fe</th>\n      <td>2016</td>\n      <td>3304557</td>\n      <td>Rio de Janeiro</td>\n      <td>33</td>\n      <td>RJ</td>\n      <td>25</td>\n      <td>F</td>\n      <td>0.0</td>\n      <td>0</td>\n      <td>1</td>\n      <td>...</td>\n      <td>5.0</td>\n      <td>C</td>\n      <td>A</td>\n      <td>A</td>\n      <td>A</td>\n      <td>A</td>\n      <td>D</td>\n      <td>A</td>\n      <td>A</td>\n      <td>A</td>\n    </tr>\n    <tr>\n      <th>bf896ac8d3ecadd6dba1dfbf50110afcbf5d3268</th>\n      <td>2016</td>\n      <td>1302603</td>\n      <td>Manaus</td>\n      <td>13</td>\n      <td>AM</td>\n      <td>28</td>\n      <td>M</td>\n      <td>0.0</td>\n      <td>2</td>\n      <td>1</td>\n      <td>...</td>\n      <td>NaN</td>\n      <td>A</td>\n      <td>A</td>\n      <td>A</td>\n      <td>A</td>\n      <td>A</td>\n      <td>A</td>\n      <td>A</td>\n      <td>A</td>\n      <td>A</td>\n    </tr>\n  </tbody>\n</table>\n<p>5 rows × 165 columns</p>\n</div>"
     },
     "metadata": {},
     "execution_count": 19
    }
   ],
   "source": [
    "train.head()"
   ]
  },
  {
   "cell_type": "code",
   "execution_count": 20,
   "metadata": {},
   "outputs": [
    {
     "output_type": "execute_result",
     "data": {
      "text/plain": "                                          CO_UF_RESIDENCIA SG_UF_RESIDENCIA  \\\nNU_INSCRICAO                                                                  \nba0cc30ba34e7a46764c09dfc38ed83d15828897                43               RS   \n177f281c68fa032aedbd842a745da68490926cd2                15               PA   \n6cf0d8b97597d7625cdedc7bdb6c0f052286c334                29               BA   \n5c356d810fa57671402502cd0933e5601a2ebf1e                41               PR   \ndf47c07bd881c2db3f38c6048bf77c132ad0ceb3                53               DF   \n\n                                          NU_IDADE TP_SEXO  TP_COR_RACA  \\\nNU_INSCRICAO                                                              \nba0cc30ba34e7a46764c09dfc38ed83d15828897        19       F            1   \n177f281c68fa032aedbd842a745da68490926cd2        24       M            3   \n6cf0d8b97597d7625cdedc7bdb6c0f052286c334        16       F            2   \n5c356d810fa57671402502cd0933e5601a2ebf1e        17       F            1   \ndf47c07bd881c2db3f38c6048bf77c132ad0ceb3        19       F            1   \n\n                                          TP_NACIONALIDADE  TP_ST_CONCLUSAO  \\\nNU_INSCRICAO                                                                  \nba0cc30ba34e7a46764c09dfc38ed83d15828897                 1                1   \n177f281c68fa032aedbd842a745da68490926cd2                 2                1   \n6cf0d8b97597d7625cdedc7bdb6c0f052286c334                 1                3   \n5c356d810fa57671402502cd0933e5601a2ebf1e                 1                2   \ndf47c07bd881c2db3f38c6048bf77c132ad0ceb3                 1                1   \n\n                                          TP_ANO_CONCLUIU  TP_ESCOLA  \\\nNU_INSCRICAO                                                           \nba0cc30ba34e7a46764c09dfc38ed83d15828897                3          1   \n177f281c68fa032aedbd842a745da68490926cd2                4          1   \n6cf0d8b97597d7625cdedc7bdb6c0f052286c334                0          1   \n5c356d810fa57671402502cd0933e5601a2ebf1e                0          2   \ndf47c07bd881c2db3f38c6048bf77c132ad0ceb3                1          1   \n\n                                          TP_ENSINO  ...  NU_NOTA_COMP5  \\\nNU_INSCRICAO                                         ...                  \nba0cc30ba34e7a46764c09dfc38ed83d15828897        NaN  ...            NaN   \n177f281c68fa032aedbd842a745da68490926cd2        NaN  ...            NaN   \n6cf0d8b97597d7625cdedc7bdb6c0f052286c334        NaN  ...            NaN   \n5c356d810fa57671402502cd0933e5601a2ebf1e        1.0  ...           40.0   \ndf47c07bd881c2db3f38c6048bf77c132ad0ceb3        NaN  ...           80.0   \n\n                                          NU_NOTA_REDACAO  Q001  Q002  Q006  \\\nNU_INSCRICAO                                                                  \nba0cc30ba34e7a46764c09dfc38ed83d15828897              NaN     E     E     H   \n177f281c68fa032aedbd842a745da68490926cd2              NaN     B     C     B   \n6cf0d8b97597d7625cdedc7bdb6c0f052286c334              NaN     E     F     G   \n5c356d810fa57671402502cd0933e5601a2ebf1e            480.0     E     E     E   \ndf47c07bd881c2db3f38c6048bf77c132ad0ceb3            720.0     E     E     E   \n\n                                          Q024  Q025  Q026  Q027  Q047  \nNU_INSCRICAO                                                            \nba0cc30ba34e7a46764c09dfc38ed83d15828897     B     B     C     D     A  \n177f281c68fa032aedbd842a745da68490926cd2     A     A     C     D     A  \n6cf0d8b97597d7625cdedc7bdb6c0f052286c334     B     B     A   NaN     D  \n5c356d810fa57671402502cd0933e5601a2ebf1e     C     B     B     C     A  \ndf47c07bd881c2db3f38c6048bf77c132ad0ceb3     B     B     B     D     A  \n\n[5 rows x 42 columns]",
      "text/html": "<div>\n<style scoped>\n    .dataframe tbody tr th:only-of-type {\n        vertical-align: middle;\n    }\n\n    .dataframe tbody tr th {\n        vertical-align: top;\n    }\n\n    .dataframe thead th {\n        text-align: right;\n    }\n</style>\n<table border=\"1\" class=\"dataframe\">\n  <thead>\n    <tr style=\"text-align: right;\">\n      <th></th>\n      <th>CO_UF_RESIDENCIA</th>\n      <th>SG_UF_RESIDENCIA</th>\n      <th>NU_IDADE</th>\n      <th>TP_SEXO</th>\n      <th>TP_COR_RACA</th>\n      <th>TP_NACIONALIDADE</th>\n      <th>TP_ST_CONCLUSAO</th>\n      <th>TP_ANO_CONCLUIU</th>\n      <th>TP_ESCOLA</th>\n      <th>TP_ENSINO</th>\n      <th>...</th>\n      <th>NU_NOTA_COMP5</th>\n      <th>NU_NOTA_REDACAO</th>\n      <th>Q001</th>\n      <th>Q002</th>\n      <th>Q006</th>\n      <th>Q024</th>\n      <th>Q025</th>\n      <th>Q026</th>\n      <th>Q027</th>\n      <th>Q047</th>\n    </tr>\n    <tr>\n      <th>NU_INSCRICAO</th>\n      <th></th>\n      <th></th>\n      <th></th>\n      <th></th>\n      <th></th>\n      <th></th>\n      <th></th>\n      <th></th>\n      <th></th>\n      <th></th>\n      <th></th>\n      <th></th>\n      <th></th>\n      <th></th>\n      <th></th>\n      <th></th>\n      <th></th>\n      <th></th>\n      <th></th>\n      <th></th>\n      <th></th>\n    </tr>\n  </thead>\n  <tbody>\n    <tr>\n      <th>ba0cc30ba34e7a46764c09dfc38ed83d15828897</th>\n      <td>43</td>\n      <td>RS</td>\n      <td>19</td>\n      <td>F</td>\n      <td>1</td>\n      <td>1</td>\n      <td>1</td>\n      <td>3</td>\n      <td>1</td>\n      <td>NaN</td>\n      <td>...</td>\n      <td>NaN</td>\n      <td>NaN</td>\n      <td>E</td>\n      <td>E</td>\n      <td>H</td>\n      <td>B</td>\n      <td>B</td>\n      <td>C</td>\n      <td>D</td>\n      <td>A</td>\n    </tr>\n    <tr>\n      <th>177f281c68fa032aedbd842a745da68490926cd2</th>\n      <td>15</td>\n      <td>PA</td>\n      <td>24</td>\n      <td>M</td>\n      <td>3</td>\n      <td>2</td>\n      <td>1</td>\n      <td>4</td>\n      <td>1</td>\n      <td>NaN</td>\n      <td>...</td>\n      <td>NaN</td>\n      <td>NaN</td>\n      <td>B</td>\n      <td>C</td>\n      <td>B</td>\n      <td>A</td>\n      <td>A</td>\n      <td>C</td>\n      <td>D</td>\n      <td>A</td>\n    </tr>\n    <tr>\n      <th>6cf0d8b97597d7625cdedc7bdb6c0f052286c334</th>\n      <td>29</td>\n      <td>BA</td>\n      <td>16</td>\n      <td>F</td>\n      <td>2</td>\n      <td>1</td>\n      <td>3</td>\n      <td>0</td>\n      <td>1</td>\n      <td>NaN</td>\n      <td>...</td>\n      <td>NaN</td>\n      <td>NaN</td>\n      <td>E</td>\n      <td>F</td>\n      <td>G</td>\n      <td>B</td>\n      <td>B</td>\n      <td>A</td>\n      <td>NaN</td>\n      <td>D</td>\n    </tr>\n    <tr>\n      <th>5c356d810fa57671402502cd0933e5601a2ebf1e</th>\n      <td>41</td>\n      <td>PR</td>\n      <td>17</td>\n      <td>F</td>\n      <td>1</td>\n      <td>1</td>\n      <td>2</td>\n      <td>0</td>\n      <td>2</td>\n      <td>1.0</td>\n      <td>...</td>\n      <td>40.0</td>\n      <td>480.0</td>\n      <td>E</td>\n      <td>E</td>\n      <td>E</td>\n      <td>C</td>\n      <td>B</td>\n      <td>B</td>\n      <td>C</td>\n      <td>A</td>\n    </tr>\n    <tr>\n      <th>df47c07bd881c2db3f38c6048bf77c132ad0ceb3</th>\n      <td>53</td>\n      <td>DF</td>\n      <td>19</td>\n      <td>F</td>\n      <td>1</td>\n      <td>1</td>\n      <td>1</td>\n      <td>1</td>\n      <td>1</td>\n      <td>NaN</td>\n      <td>...</td>\n      <td>80.0</td>\n      <td>720.0</td>\n      <td>E</td>\n      <td>E</td>\n      <td>E</td>\n      <td>B</td>\n      <td>B</td>\n      <td>B</td>\n      <td>D</td>\n      <td>A</td>\n    </tr>\n  </tbody>\n</table>\n<p>5 rows × 42 columns</p>\n</div>"
     },
     "metadata": {},
     "execution_count": 20
    }
   ],
   "source": [
    "test.head()"
   ]
  },
  {
   "cell_type": "code",
   "execution_count": 21,
   "metadata": {},
   "outputs": [
    {
     "output_type": "execute_result",
     "data": {
      "text/plain": "(13730, 165)"
     },
     "metadata": {},
     "execution_count": 21
    }
   ],
   "source": [
    "train.shape"
   ]
  },
  {
   "cell_type": "code",
   "execution_count": 22,
   "metadata": {},
   "outputs": [
    {
     "output_type": "execute_result",
     "data": {
      "text/plain": "(4570, 42)"
     },
     "metadata": {},
     "execution_count": 22
    }
   ],
   "source": [
    "test.shape"
   ]
  },
  {
   "cell_type": "code",
   "execution_count": 23,
   "metadata": {},
   "outputs": [],
   "source": [
    "extra_cols=set(train.columns) - set(test.columns)"
   ]
  },
  {
   "cell_type": "code",
   "execution_count": 25,
   "metadata": {},
   "outputs": [
    {
     "output_type": "execute_result",
     "data": {
      "text/plain": "                                          CO_UF_RESIDENCIA SG_UF_RESIDENCIA  \\\nNU_INSCRICAO                                                                  \ned50e8aaa58e7a806c337585efee9ca41f1eb1ad                43               RS   \n2c3acac4b33ec2b195d77e7c04a2d75727fad723                23               CE   \nf4545f8ccb9ff5c8aad7d32951b3f251a26e6568                23               CE   \n3d6ec248fef899c414e77f82d5c6d2bffbeaf7fe                33               RJ   \nbf896ac8d3ecadd6dba1dfbf50110afcbf5d3268                13               AM   \n\n                                          NU_IDADE TP_SEXO  TP_COR_RACA  \\\nNU_INSCRICAO                                                              \ned50e8aaa58e7a806c337585efee9ca41f1eb1ad        24       M            1   \n2c3acac4b33ec2b195d77e7c04a2d75727fad723        17       F            3   \nf4545f8ccb9ff5c8aad7d32951b3f251a26e6568        21       F            3   \n3d6ec248fef899c414e77f82d5c6d2bffbeaf7fe        25       F            0   \nbf896ac8d3ecadd6dba1dfbf50110afcbf5d3268        28       M            2   \n\n                                          TP_NACIONALIDADE  TP_ST_CONCLUSAO  \\\nNU_INSCRICAO                                                                  \ned50e8aaa58e7a806c337585efee9ca41f1eb1ad                 1                1   \n2c3acac4b33ec2b195d77e7c04a2d75727fad723                 1                2   \nf4545f8ccb9ff5c8aad7d32951b3f251a26e6568                 1                3   \n3d6ec248fef899c414e77f82d5c6d2bffbeaf7fe                 1                1   \nbf896ac8d3ecadd6dba1dfbf50110afcbf5d3268                 1                1   \n\n                                          TP_ANO_CONCLUIU  TP_ESCOLA  \\\nNU_INSCRICAO                                                           \ned50e8aaa58e7a806c337585efee9ca41f1eb1ad                4          1   \n2c3acac4b33ec2b195d77e7c04a2d75727fad723                0          2   \nf4545f8ccb9ff5c8aad7d32951b3f251a26e6568                0          1   \n3d6ec248fef899c414e77f82d5c6d2bffbeaf7fe                9          1   \nbf896ac8d3ecadd6dba1dfbf50110afcbf5d3268                4          1   \n\n                                          TP_ENSINO  ...  NU_NOTA_REDACAO  \\\nNU_INSCRICAO                                         ...                    \ned50e8aaa58e7a806c337585efee9ca41f1eb1ad        NaN  ...            520.0   \n2c3acac4b33ec2b195d77e7c04a2d75727fad723        1.0  ...            580.0   \nf4545f8ccb9ff5c8aad7d32951b3f251a26e6568        NaN  ...              NaN   \n3d6ec248fef899c414e77f82d5c6d2bffbeaf7fe        NaN  ...              NaN   \nbf896ac8d3ecadd6dba1dfbf50110afcbf5d3268        NaN  ...              NaN   \n\n                                          Q001  Q002  Q006  Q024  Q025  Q026  \\\nNU_INSCRICAO                                                                   \ned50e8aaa58e7a806c337585efee9ca41f1eb1ad     D     D     C     A     A     C   \n2c3acac4b33ec2b195d77e7c04a2d75727fad723     A     A     B     A     A     A   \nf4545f8ccb9ff5c8aad7d32951b3f251a26e6568     D     D     C     A     A     A   \n3d6ec248fef899c414e77f82d5c6d2bffbeaf7fe     H     E     E     C     B     C   \nbf896ac8d3ecadd6dba1dfbf50110afcbf5d3268     E     D     C     A     A     B   \n\n                                          Q027  Q047  IN_TREINEIRO  \nNU_INSCRICAO                                                        \ned50e8aaa58e7a806c337585efee9ca41f1eb1ad     H     A             0  \n2c3acac4b33ec2b195d77e7c04a2d75727fad723   NaN     A             0  \nf4545f8ccb9ff5c8aad7d32951b3f251a26e6568   NaN     A             0  \n3d6ec248fef899c414e77f82d5c6d2bffbeaf7fe     F     D             0  \nbf896ac8d3ecadd6dba1dfbf50110afcbf5d3268     F     A             0  \n\n[5 rows x 43 columns]",
      "text/html": "<div>\n<style scoped>\n    .dataframe tbody tr th:only-of-type {\n        vertical-align: middle;\n    }\n\n    .dataframe tbody tr th {\n        vertical-align: top;\n    }\n\n    .dataframe thead th {\n        text-align: right;\n    }\n</style>\n<table border=\"1\" class=\"dataframe\">\n  <thead>\n    <tr style=\"text-align: right;\">\n      <th></th>\n      <th>CO_UF_RESIDENCIA</th>\n      <th>SG_UF_RESIDENCIA</th>\n      <th>NU_IDADE</th>\n      <th>TP_SEXO</th>\n      <th>TP_COR_RACA</th>\n      <th>TP_NACIONALIDADE</th>\n      <th>TP_ST_CONCLUSAO</th>\n      <th>TP_ANO_CONCLUIU</th>\n      <th>TP_ESCOLA</th>\n      <th>TP_ENSINO</th>\n      <th>...</th>\n      <th>NU_NOTA_REDACAO</th>\n      <th>Q001</th>\n      <th>Q002</th>\n      <th>Q006</th>\n      <th>Q024</th>\n      <th>Q025</th>\n      <th>Q026</th>\n      <th>Q027</th>\n      <th>Q047</th>\n      <th>IN_TREINEIRO</th>\n    </tr>\n    <tr>\n      <th>NU_INSCRICAO</th>\n      <th></th>\n      <th></th>\n      <th></th>\n      <th></th>\n      <th></th>\n      <th></th>\n      <th></th>\n      <th></th>\n      <th></th>\n      <th></th>\n      <th></th>\n      <th></th>\n      <th></th>\n      <th></th>\n      <th></th>\n      <th></th>\n      <th></th>\n      <th></th>\n      <th></th>\n      <th></th>\n      <th></th>\n    </tr>\n  </thead>\n  <tbody>\n    <tr>\n      <th>ed50e8aaa58e7a806c337585efee9ca41f1eb1ad</th>\n      <td>43</td>\n      <td>RS</td>\n      <td>24</td>\n      <td>M</td>\n      <td>1</td>\n      <td>1</td>\n      <td>1</td>\n      <td>4</td>\n      <td>1</td>\n      <td>NaN</td>\n      <td>...</td>\n      <td>520.0</td>\n      <td>D</td>\n      <td>D</td>\n      <td>C</td>\n      <td>A</td>\n      <td>A</td>\n      <td>C</td>\n      <td>H</td>\n      <td>A</td>\n      <td>0</td>\n    </tr>\n    <tr>\n      <th>2c3acac4b33ec2b195d77e7c04a2d75727fad723</th>\n      <td>23</td>\n      <td>CE</td>\n      <td>17</td>\n      <td>F</td>\n      <td>3</td>\n      <td>1</td>\n      <td>2</td>\n      <td>0</td>\n      <td>2</td>\n      <td>1.0</td>\n      <td>...</td>\n      <td>580.0</td>\n      <td>A</td>\n      <td>A</td>\n      <td>B</td>\n      <td>A</td>\n      <td>A</td>\n      <td>A</td>\n      <td>NaN</td>\n      <td>A</td>\n      <td>0</td>\n    </tr>\n    <tr>\n      <th>f4545f8ccb9ff5c8aad7d32951b3f251a26e6568</th>\n      <td>23</td>\n      <td>CE</td>\n      <td>21</td>\n      <td>F</td>\n      <td>3</td>\n      <td>1</td>\n      <td>3</td>\n      <td>0</td>\n      <td>1</td>\n      <td>NaN</td>\n      <td>...</td>\n      <td>NaN</td>\n      <td>D</td>\n      <td>D</td>\n      <td>C</td>\n      <td>A</td>\n      <td>A</td>\n      <td>A</td>\n      <td>NaN</td>\n      <td>A</td>\n      <td>0</td>\n    </tr>\n    <tr>\n      <th>3d6ec248fef899c414e77f82d5c6d2bffbeaf7fe</th>\n      <td>33</td>\n      <td>RJ</td>\n      <td>25</td>\n      <td>F</td>\n      <td>0</td>\n      <td>1</td>\n      <td>1</td>\n      <td>9</td>\n      <td>1</td>\n      <td>NaN</td>\n      <td>...</td>\n      <td>NaN</td>\n      <td>H</td>\n      <td>E</td>\n      <td>E</td>\n      <td>C</td>\n      <td>B</td>\n      <td>C</td>\n      <td>F</td>\n      <td>D</td>\n      <td>0</td>\n    </tr>\n    <tr>\n      <th>bf896ac8d3ecadd6dba1dfbf50110afcbf5d3268</th>\n      <td>13</td>\n      <td>AM</td>\n      <td>28</td>\n      <td>M</td>\n      <td>2</td>\n      <td>1</td>\n      <td>1</td>\n      <td>4</td>\n      <td>1</td>\n      <td>NaN</td>\n      <td>...</td>\n      <td>NaN</td>\n      <td>E</td>\n      <td>D</td>\n      <td>C</td>\n      <td>A</td>\n      <td>A</td>\n      <td>B</td>\n      <td>F</td>\n      <td>A</td>\n      <td>0</td>\n    </tr>\n  </tbody>\n</table>\n<p>5 rows × 43 columns</p>\n</div>"
     },
     "metadata": {},
     "execution_count": 25
    }
   ],
   "source": [
    "train = train[test.columns].join(train['IN_TREINEIRO'])\n",
    "train.head()"
   ]
  },
  {
   "cell_type": "code",
   "execution_count": 26,
   "metadata": {},
   "outputs": [
    {
     "output_type": "execute_result",
     "data": {
      "text/plain": "Index(['CO_UF_RESIDENCIA', 'SG_UF_RESIDENCIA', 'NU_IDADE', 'TP_SEXO',\n       'TP_COR_RACA', 'TP_NACIONALIDADE', 'TP_ST_CONCLUSAO', 'TP_ANO_CONCLUIU',\n       'TP_ESCOLA', 'TP_ENSINO', 'TP_DEPENDENCIA_ADM_ESC', 'IN_BAIXA_VISAO',\n       'IN_CEGUEIRA', 'IN_SURDEZ', 'IN_DISLEXIA', 'IN_DISCALCULIA',\n       'IN_SABATISTA', 'IN_GESTANTE', 'IN_IDOSO', 'TP_PRESENCA_CN',\n       'TP_PRESENCA_CH', 'TP_PRESENCA_LC', 'TP_PRESENCA_MT', 'NU_NOTA_CN',\n       'NU_NOTA_CH', 'NU_NOTA_LC', 'TP_LINGUA', 'TP_STATUS_REDACAO',\n       'NU_NOTA_COMP1', 'NU_NOTA_COMP2', 'NU_NOTA_COMP3', 'NU_NOTA_COMP4',\n       'NU_NOTA_COMP5', 'NU_NOTA_REDACAO', 'Q001', 'Q002', 'Q006', 'Q024',\n       'Q025', 'Q026', 'Q027', 'Q047', 'IN_TREINEIRO'],\n      dtype='object')"
     },
     "metadata": {},
     "execution_count": 26
    }
   ],
   "source": [
    "train.columns"
   ]
  },
  {
   "cell_type": "code",
   "execution_count": 27,
   "metadata": {
    "scrolled": true
   },
   "outputs": [
    {
     "output_type": "execute_result",
     "data": {
      "text/plain": "CO_UF_RESIDENCIA             0\nSG_UF_RESIDENCIA             0\nNU_IDADE                     0\nTP_SEXO                      0\nTP_COR_RACA                  0\nTP_NACIONALIDADE             0\nTP_ST_CONCLUSAO              0\nTP_ANO_CONCLUIU              0\nTP_ESCOLA                    0\nTP_ENSINO                 9448\nTP_DEPENDENCIA_ADM_ESC    9448\nIN_BAIXA_VISAO               0\nIN_CEGUEIRA                  0\nIN_SURDEZ                    0\nIN_DISLEXIA                  0\nIN_DISCALCULIA               0\nIN_SABATISTA                 0\nIN_GESTANTE                  0\nIN_IDOSO                     0\nTP_PRESENCA_CN               0\nTP_PRESENCA_CH               0\nTP_PRESENCA_LC               0\nTP_PRESENCA_MT               0\nNU_NOTA_CN                3389\nNU_NOTA_CH                3389\nNU_NOTA_LC                3597\nTP_LINGUA                    0\nTP_STATUS_REDACAO         3597\nNU_NOTA_COMP1             3597\nNU_NOTA_COMP2             3597\nNU_NOTA_COMP3             3597\nNU_NOTA_COMP4             3597\nNU_NOTA_COMP5             3597\nNU_NOTA_REDACAO           3597\nQ001                         0\nQ002                         0\nQ006                         0\nQ024                         0\nQ025                         0\nQ026                         0\nQ027                      7373\nQ047                         0\nIN_TREINEIRO                 0\ndtype: int64"
     },
     "metadata": {},
     "execution_count": 27
    }
   ],
   "source": [
    "train.isnull().sum()"
   ]
  },
  {
   "cell_type": "code",
   "execution_count": 28,
   "metadata": {
    "collapsed": true
   },
   "outputs": [
    {
     "output_type": "execute_result",
     "data": {
      "text/plain": "                                          TP_STATUS_REDACAO  NU_NOTA_COMP1  \\\nNU_INSCRICAO                                                                 \nf4545f8ccb9ff5c8aad7d32951b3f251a26e6568                NaN            NaN   \n3d6ec248fef899c414e77f82d5c6d2bffbeaf7fe                NaN            NaN   \nbf896ac8d3ecadd6dba1dfbf50110afcbf5d3268                NaN            NaN   \n94f7e277f87cd58e10a45da4ad5dd168651cf3ef                NaN            NaN   \n8570b9be0b2b629d00743d0de77cd95a84a46fbc                NaN            NaN   \n...                                                     ...            ...   \nbc6ea97fcc031786198e58ca5485d2648a2145fb                NaN            NaN   \ne60cbd0026dae31e4f0580a909465c83355ea282                NaN            NaN   \n99cfec493fefde4fcec60fd8c1e3eb1fe891fb31                NaN            NaN   \n00bb288d1b225bf07136b1d6e5a20a0fa7f7e2a9                NaN            NaN   \na78cd7c85a7ed2a29190ed3e40a8cf8dad2d7335                NaN            NaN   \n\n                                          NU_NOTA_COMP2  NU_NOTA_COMP3  \\\nNU_INSCRICAO                                                             \nf4545f8ccb9ff5c8aad7d32951b3f251a26e6568            NaN            NaN   \n3d6ec248fef899c414e77f82d5c6d2bffbeaf7fe            NaN            NaN   \nbf896ac8d3ecadd6dba1dfbf50110afcbf5d3268            NaN            NaN   \n94f7e277f87cd58e10a45da4ad5dd168651cf3ef            NaN            NaN   \n8570b9be0b2b629d00743d0de77cd95a84a46fbc            NaN            NaN   \n...                                                 ...            ...   \nbc6ea97fcc031786198e58ca5485d2648a2145fb            NaN            NaN   \ne60cbd0026dae31e4f0580a909465c83355ea282            NaN            NaN   \n99cfec493fefde4fcec60fd8c1e3eb1fe891fb31            NaN            NaN   \n00bb288d1b225bf07136b1d6e5a20a0fa7f7e2a9            NaN            NaN   \na78cd7c85a7ed2a29190ed3e40a8cf8dad2d7335            NaN            NaN   \n\n                                          NU_NOTA_COMP4  NU_NOTA_COMP5  \\\nNU_INSCRICAO                                                             \nf4545f8ccb9ff5c8aad7d32951b3f251a26e6568            NaN            NaN   \n3d6ec248fef899c414e77f82d5c6d2bffbeaf7fe            NaN            NaN   \nbf896ac8d3ecadd6dba1dfbf50110afcbf5d3268            NaN            NaN   \n94f7e277f87cd58e10a45da4ad5dd168651cf3ef            NaN            NaN   \n8570b9be0b2b629d00743d0de77cd95a84a46fbc            NaN            NaN   \n...                                                 ...            ...   \nbc6ea97fcc031786198e58ca5485d2648a2145fb            NaN            NaN   \ne60cbd0026dae31e4f0580a909465c83355ea282            NaN            NaN   \n99cfec493fefde4fcec60fd8c1e3eb1fe891fb31            NaN            NaN   \n00bb288d1b225bf07136b1d6e5a20a0fa7f7e2a9            NaN            NaN   \na78cd7c85a7ed2a29190ed3e40a8cf8dad2d7335            NaN            NaN   \n\n                                          NU_NOTA_REDACAO Q001 Q002 Q006 Q024  \\\nNU_INSCRICAO                                                                    \nf4545f8ccb9ff5c8aad7d32951b3f251a26e6568              NaN    D    D    C    A   \n3d6ec248fef899c414e77f82d5c6d2bffbeaf7fe              NaN    H    E    E    C   \nbf896ac8d3ecadd6dba1dfbf50110afcbf5d3268              NaN    E    D    C    A   \n94f7e277f87cd58e10a45da4ad5dd168651cf3ef              NaN    H    E    G    B   \n8570b9be0b2b629d00743d0de77cd95a84a46fbc              NaN    D    D    C    B   \n...                                                   ...  ...  ...  ...  ...   \nbc6ea97fcc031786198e58ca5485d2648a2145fb              NaN    C    B    B    B   \ne60cbd0026dae31e4f0580a909465c83355ea282              NaN    C    C    D    B   \n99cfec493fefde4fcec60fd8c1e3eb1fe891fb31              NaN    B    E    D    B   \n00bb288d1b225bf07136b1d6e5a20a0fa7f7e2a9              NaN    C    C    G    B   \na78cd7c85a7ed2a29190ed3e40a8cf8dad2d7335              NaN    C    B    D    B   \n\n                                         Q025 Q026 Q027 Q047  IN_TREINEIRO  \nNU_INSCRICAO                                                                \nf4545f8ccb9ff5c8aad7d32951b3f251a26e6568    A    A  NaN    A             0  \n3d6ec248fef899c414e77f82d5c6d2bffbeaf7fe    B    C    F    D             0  \nbf896ac8d3ecadd6dba1dfbf50110afcbf5d3268    A    B    F    A             0  \n94f7e277f87cd58e10a45da4ad5dd168651cf3ef    B    B    H    A             0  \n8570b9be0b2b629d00743d0de77cd95a84a46fbc    B    C    F    A             0  \n...                                       ...  ...  ...  ...           ...  \nbc6ea97fcc031786198e58ca5485d2648a2145fb    B    A  NaN    A             1  \ne60cbd0026dae31e4f0580a909465c83355ea282    B    B    I    A             0  \n99cfec493fefde4fcec60fd8c1e3eb1fe891fb31    B    C    B    A             0  \n00bb288d1b225bf07136b1d6e5a20a0fa7f7e2a9    B    C  NaN    A             0  \na78cd7c85a7ed2a29190ed3e40a8cf8dad2d7335    B    B    D    A             0  \n\n[3597 rows x 16 columns]",
      "text/html": "<div>\n<style scoped>\n    .dataframe tbody tr th:only-of-type {\n        vertical-align: middle;\n    }\n\n    .dataframe tbody tr th {\n        vertical-align: top;\n    }\n\n    .dataframe thead th {\n        text-align: right;\n    }\n</style>\n<table border=\"1\" class=\"dataframe\">\n  <thead>\n    <tr style=\"text-align: right;\">\n      <th></th>\n      <th>TP_STATUS_REDACAO</th>\n      <th>NU_NOTA_COMP1</th>\n      <th>NU_NOTA_COMP2</th>\n      <th>NU_NOTA_COMP3</th>\n      <th>NU_NOTA_COMP4</th>\n      <th>NU_NOTA_COMP5</th>\n      <th>NU_NOTA_REDACAO</th>\n      <th>Q001</th>\n      <th>Q002</th>\n      <th>Q006</th>\n      <th>Q024</th>\n      <th>Q025</th>\n      <th>Q026</th>\n      <th>Q027</th>\n      <th>Q047</th>\n      <th>IN_TREINEIRO</th>\n    </tr>\n    <tr>\n      <th>NU_INSCRICAO</th>\n      <th></th>\n      <th></th>\n      <th></th>\n      <th></th>\n      <th></th>\n      <th></th>\n      <th></th>\n      <th></th>\n      <th></th>\n      <th></th>\n      <th></th>\n      <th></th>\n      <th></th>\n      <th></th>\n      <th></th>\n      <th></th>\n    </tr>\n  </thead>\n  <tbody>\n    <tr>\n      <th>f4545f8ccb9ff5c8aad7d32951b3f251a26e6568</th>\n      <td>NaN</td>\n      <td>NaN</td>\n      <td>NaN</td>\n      <td>NaN</td>\n      <td>NaN</td>\n      <td>NaN</td>\n      <td>NaN</td>\n      <td>D</td>\n      <td>D</td>\n      <td>C</td>\n      <td>A</td>\n      <td>A</td>\n      <td>A</td>\n      <td>NaN</td>\n      <td>A</td>\n      <td>0</td>\n    </tr>\n    <tr>\n      <th>3d6ec248fef899c414e77f82d5c6d2bffbeaf7fe</th>\n      <td>NaN</td>\n      <td>NaN</td>\n      <td>NaN</td>\n      <td>NaN</td>\n      <td>NaN</td>\n      <td>NaN</td>\n      <td>NaN</td>\n      <td>H</td>\n      <td>E</td>\n      <td>E</td>\n      <td>C</td>\n      <td>B</td>\n      <td>C</td>\n      <td>F</td>\n      <td>D</td>\n      <td>0</td>\n    </tr>\n    <tr>\n      <th>bf896ac8d3ecadd6dba1dfbf50110afcbf5d3268</th>\n      <td>NaN</td>\n      <td>NaN</td>\n      <td>NaN</td>\n      <td>NaN</td>\n      <td>NaN</td>\n      <td>NaN</td>\n      <td>NaN</td>\n      <td>E</td>\n      <td>D</td>\n      <td>C</td>\n      <td>A</td>\n      <td>A</td>\n      <td>B</td>\n      <td>F</td>\n      <td>A</td>\n      <td>0</td>\n    </tr>\n    <tr>\n      <th>94f7e277f87cd58e10a45da4ad5dd168651cf3ef</th>\n      <td>NaN</td>\n      <td>NaN</td>\n      <td>NaN</td>\n      <td>NaN</td>\n      <td>NaN</td>\n      <td>NaN</td>\n      <td>NaN</td>\n      <td>H</td>\n      <td>E</td>\n      <td>G</td>\n      <td>B</td>\n      <td>B</td>\n      <td>B</td>\n      <td>H</td>\n      <td>A</td>\n      <td>0</td>\n    </tr>\n    <tr>\n      <th>8570b9be0b2b629d00743d0de77cd95a84a46fbc</th>\n      <td>NaN</td>\n      <td>NaN</td>\n      <td>NaN</td>\n      <td>NaN</td>\n      <td>NaN</td>\n      <td>NaN</td>\n      <td>NaN</td>\n      <td>D</td>\n      <td>D</td>\n      <td>C</td>\n      <td>B</td>\n      <td>B</td>\n      <td>C</td>\n      <td>F</td>\n      <td>A</td>\n      <td>0</td>\n    </tr>\n    <tr>\n      <th>...</th>\n      <td>...</td>\n      <td>...</td>\n      <td>...</td>\n      <td>...</td>\n      <td>...</td>\n      <td>...</td>\n      <td>...</td>\n      <td>...</td>\n      <td>...</td>\n      <td>...</td>\n      <td>...</td>\n      <td>...</td>\n      <td>...</td>\n      <td>...</td>\n      <td>...</td>\n      <td>...</td>\n    </tr>\n    <tr>\n      <th>bc6ea97fcc031786198e58ca5485d2648a2145fb</th>\n      <td>NaN</td>\n      <td>NaN</td>\n      <td>NaN</td>\n      <td>NaN</td>\n      <td>NaN</td>\n      <td>NaN</td>\n      <td>NaN</td>\n      <td>C</td>\n      <td>B</td>\n      <td>B</td>\n      <td>B</td>\n      <td>B</td>\n      <td>A</td>\n      <td>NaN</td>\n      <td>A</td>\n      <td>1</td>\n    </tr>\n    <tr>\n      <th>e60cbd0026dae31e4f0580a909465c83355ea282</th>\n      <td>NaN</td>\n      <td>NaN</td>\n      <td>NaN</td>\n      <td>NaN</td>\n      <td>NaN</td>\n      <td>NaN</td>\n      <td>NaN</td>\n      <td>C</td>\n      <td>C</td>\n      <td>D</td>\n      <td>B</td>\n      <td>B</td>\n      <td>B</td>\n      <td>I</td>\n      <td>A</td>\n      <td>0</td>\n    </tr>\n    <tr>\n      <th>99cfec493fefde4fcec60fd8c1e3eb1fe891fb31</th>\n      <td>NaN</td>\n      <td>NaN</td>\n      <td>NaN</td>\n      <td>NaN</td>\n      <td>NaN</td>\n      <td>NaN</td>\n      <td>NaN</td>\n      <td>B</td>\n      <td>E</td>\n      <td>D</td>\n      <td>B</td>\n      <td>B</td>\n      <td>C</td>\n      <td>B</td>\n      <td>A</td>\n      <td>0</td>\n    </tr>\n    <tr>\n      <th>00bb288d1b225bf07136b1d6e5a20a0fa7f7e2a9</th>\n      <td>NaN</td>\n      <td>NaN</td>\n      <td>NaN</td>\n      <td>NaN</td>\n      <td>NaN</td>\n      <td>NaN</td>\n      <td>NaN</td>\n      <td>C</td>\n      <td>C</td>\n      <td>G</td>\n      <td>B</td>\n      <td>B</td>\n      <td>C</td>\n      <td>NaN</td>\n      <td>A</td>\n      <td>0</td>\n    </tr>\n    <tr>\n      <th>a78cd7c85a7ed2a29190ed3e40a8cf8dad2d7335</th>\n      <td>NaN</td>\n      <td>NaN</td>\n      <td>NaN</td>\n      <td>NaN</td>\n      <td>NaN</td>\n      <td>NaN</td>\n      <td>NaN</td>\n      <td>C</td>\n      <td>B</td>\n      <td>D</td>\n      <td>B</td>\n      <td>B</td>\n      <td>B</td>\n      <td>D</td>\n      <td>A</td>\n      <td>0</td>\n    </tr>\n  </tbody>\n</table>\n<p>3597 rows × 16 columns</p>\n</div>"
     },
     "metadata": {},
     "execution_count": 28
    }
   ],
   "source": [
    "#Quem n tem status_redacao, não tem competências nem nota\n",
    "train.loc[train['TP_STATUS_REDACAO'].isnull(),'TP_STATUS_REDACAO':]"
   ]
  },
  {
   "cell_type": "code",
   "execution_count": 29,
   "metadata": {},
   "outputs": [],
   "source": [
    "#Dropar por informação redundante: ['SG_UF_RESIDENCIA','TP_PRESENCA_CN', 'TP_PRESENCA_CH', 'TP_PRESENCA_LC']\n",
    "#Dropar por ter muitos nulos e a maioria dos não nulos são uma informação específica, o que acaba não acrescentando em nada:['TP_ENSINO','TP_DEPENDENCIA_ADM_ESC']\n",
    "#Dropar por excesso de nulos: '[TP_STATUS_REDACAO', 'NU_NOTA_COMP1','NU_NOTA_COMP2', 'NU_NOTA_COMP3', 'NU_NOTA_COMP4', 'NU_NOTA_COMP5','NU_NOTA_REDACAO']\n",
    "train.drop(['SG_UF_RESIDENCIA','TP_PRESENCA_CN', 'TP_PRESENCA_CH', 'TP_PRESENCA_LC','TP_ENSINO',\n",
    "            'TP_DEPENDENCIA_ADM_ESC','TP_STATUS_REDACAO', 'NU_NOTA_COMP1','NU_NOTA_COMP2', 'NU_NOTA_COMP3',\n",
    "            'NU_NOTA_COMP4', 'NU_NOTA_COMP5','NU_NOTA_REDACAO'],axis=1,inplace=True)\n",
    "test.drop(['SG_UF_RESIDENCIA','TP_PRESENCA_CN', 'TP_PRESENCA_CH', 'TP_PRESENCA_LC','TP_ENSINO',\n",
    "            'TP_DEPENDENCIA_ADM_ESC','TP_STATUS_REDACAO', 'NU_NOTA_COMP1','NU_NOTA_COMP2', 'NU_NOTA_COMP3',\n",
    "            'NU_NOTA_COMP4', 'NU_NOTA_COMP5','NU_NOTA_REDACAO'],axis=1,inplace=True)"
   ]
  },
  {
   "cell_type": "code",
   "execution_count": 30,
   "metadata": {},
   "outputs": [
    {
     "output_type": "execute_result",
     "data": {
      "text/plain": "Index(['CO_UF_RESIDENCIA', 'NU_IDADE', 'TP_SEXO', 'TP_COR_RACA',\n       'TP_NACIONALIDADE', 'TP_ST_CONCLUSAO', 'TP_ANO_CONCLUIU', 'TP_ESCOLA',\n       'IN_BAIXA_VISAO', 'IN_CEGUEIRA', 'IN_SURDEZ', 'IN_DISLEXIA',\n       'IN_DISCALCULIA', 'IN_SABATISTA', 'IN_GESTANTE', 'IN_IDOSO',\n       'TP_PRESENCA_MT', 'NU_NOTA_CN', 'NU_NOTA_CH', 'NU_NOTA_LC', 'TP_LINGUA',\n       'Q001', 'Q002', 'Q006', 'Q024', 'Q025', 'Q026', 'Q027', 'Q047',\n       'IN_TREINEIRO'],\n      dtype='object')"
     },
     "metadata": {},
     "execution_count": 30
    }
   ],
   "source": [
    "train.columns"
   ]
  },
  {
   "cell_type": "code",
   "execution_count": 32,
   "metadata": {},
   "outputs": [],
   "source": [
    "#Substituir os nulos de NU_NOTA_CN,NU_NOTA_LC,NU_NOTA_CH e NU_NOTA_MT por 0 pq esses foram os eliminados e faltantes.\n",
    "train[['NU_NOTA_CN','NU_NOTA_CH','NU_NOTA_LC']]=train[['NU_NOTA_CN','NU_NOTA_CH','NU_NOTA_LC']].fillna(value=0)\n",
    "test[['NU_NOTA_CN','NU_NOTA_CH','NU_NOTA_LC']]=test[['NU_NOTA_CN','NU_NOTA_CH','NU_NOTA_LC']].fillna(value=0)"
   ]
  },
  {
   "cell_type": "code",
   "execution_count": 33,
   "metadata": {},
   "outputs": [],
   "source": [
    "#Substituir os nulos de 'Q027'  por N pq esse são os que nunca exerceram atividade.\n",
    "train['Q027']=train['Q027'].fillna(value='N')\n",
    "test['Q027']=test['Q027'].fillna(value='N')"
   ]
  },
  {
   "cell_type": "code",
   "execution_count": 34,
   "metadata": {},
   "outputs": [],
   "source": [
    "#Transforma em só uma coluna com soma de ( 'IN_BAIXA_VISAO', 'IN_CEGUEIRA', 'IN_SURDEZ', 'IN_DISLEXIA','IN_DISCALCULIA') \n",
    "#e ('IN_SABATISTA', 'IN_GESTANTE', 'IN_IDOSO')\n",
    "train['ATEND_ESPE1'] = train[['IN_BAIXA_VISAO', 'IN_CEGUEIRA', 'IN_SURDEZ', 'IN_DISLEXIA','IN_DISCALCULIA']].sum(axis=1)\n",
    "test['ATEND_ESPE1'] = test[['IN_BAIXA_VISAO', 'IN_CEGUEIRA', 'IN_SURDEZ', 'IN_DISLEXIA','IN_DISCALCULIA']].sum(axis=1)\n",
    "\n",
    "train['ATEND_ESPE2'] = train[['IN_SABATISTA', 'IN_GESTANTE', 'IN_IDOSO']].sum(axis=1)\n",
    "test['ATEND_ESPE2'] = test[['IN_SABATISTA', 'IN_GESTANTE', 'IN_IDOSO']].sum(axis=1)\n",
    "\n",
    "\n",
    "train.drop(['IN_BAIXA_VISAO', 'IN_CEGUEIRA', 'IN_SURDEZ', 'IN_DISLEXIA','IN_DISCALCULIA','IN_SABATISTA', 'IN_GESTANTE', 'IN_IDOSO'],axis=1,inplace=True)\n",
    "test.drop(['IN_BAIXA_VISAO', 'IN_CEGUEIRA', 'IN_SURDEZ', 'IN_DISLEXIA','IN_DISCALCULIA','IN_SABATISTA', 'IN_GESTANTE', 'IN_IDOSO'],axis=1,inplace=True)"
   ]
  },
  {
   "cell_type": "code",
   "execution_count": 35,
   "metadata": {},
   "outputs": [],
   "source": [
    "#0 são nulos) de: ['TP_COR_RACA','TP_NACIONALIDADE']\n",
    "rep_dic_0 = {1:'A',2:'B',3:'C',4:'D',5:'E',0:np.nan}\n",
    "train[['TP_COR_RACA','TP_NACIONALIDADE']] = train[['TP_COR_RACA','TP_NACIONALIDADE']].replace(rep_dic_0)\n",
    "test[['TP_COR_RACA','TP_NACIONALIDADE']] = test[['TP_COR_RACA','TP_NACIONALIDADE']].replace(rep_dic_0)\n",
    "\n",
    "#Dropar os 1(que são nulos) de: ['TP_ESCOLA']\n",
    "rep_dic_1 = {1:np.nan,2:'B',3:'C',4:'D'}\n",
    "train['TP_ESCOLA'] = train['TP_ESCOLA'].replace(rep_dic_1)\n",
    "test['TP_ESCOLA'] = test['TP_ESCOLA'].replace(rep_dic_1)\n",
    "\n",
    "rep_dic_2 = {1:'A',2:'B',3:'C',4:'D'}\n",
    "train['TP_ST_CONCLUSAO'] = train['TP_ST_CONCLUSAO'].replace(rep_dic_2)\n",
    "test['TP_ST_CONCLUSAO'] = test['TP_ST_CONCLUSAO'].replace(rep_dic_2)\n"
   ]
  },
  {
   "cell_type": "code",
   "execution_count": 36,
   "metadata": {},
   "outputs": [],
   "source": [
    "cats = ['TP_COR_RACA','TP_NACIONALIDADE','TP_ESCOLA','TP_ST_CONCLUSAO'] + ['Q001','Q002','Q006','Q024','Q026','Q027','Q047','TP_SEXO','Q025']\n"
   ]
  },
  {
   "cell_type": "code",
   "execution_count": 37,
   "metadata": {},
   "outputs": [],
   "source": [
    "numerical_cols = set(train.columns) - set(cats)"
   ]
  },
  {
   "cell_type": "code",
   "execution_count": 38,
   "metadata": {
    "scrolled": true
   },
   "outputs": [
    {
     "output_type": "execute_result",
     "data": {
      "text/plain": "NU_NOTA_LC          0\nTP_LINGUA           0\nTP_PRESENCA_MT      0\nCO_UF_RESIDENCIA    0\nNU_NOTA_CH          0\nATEND_ESPE2         0\nATEND_ESPE1         0\nTP_ANO_CONCLUIU     0\nNU_NOTA_CN          0\nNU_IDADE            0\nIN_TREINEIRO        0\ndtype: int64"
     },
     "metadata": {},
     "execution_count": 38
    }
   ],
   "source": [
    "train[numerical_cols].isnull().sum()"
   ]
  },
  {
   "cell_type": "code",
   "execution_count": 39,
   "metadata": {
    "tags": []
   },
   "outputs": [
    {
     "output_type": "stream",
     "name": "stdout",
     "text": "TP_COR_RACA         0.017553\nTP_NACIONALIDADE    0.000947\nTP_ESCOLA           0.688055\nTP_ST_CONCLUSAO     0.000000\nQ001                0.000000\nQ002                0.000000\nQ006                0.000000\nQ024                0.000000\nQ026                0.000000\nQ027                0.000000\nQ047                0.000000\nTP_SEXO             0.000000\nQ025                0.000000\ndtype: float64\n"
    }
   ],
   "source": [
    "print(train[cats].isnull().sum() / train.shape[0])\n",
    "train = train.drop('TP_ESCOLA',axis=1)\n",
    "test = test.drop('TP_ESCOLA',axis=1)\n",
    "cats.remove('TP_ESCOLA')"
   ]
  },
  {
   "cell_type": "code",
   "execution_count": 58,
   "metadata": {},
   "outputs": [],
   "source": [
    "train['medias'] = train[['NU_NOTA_CN', 'NU_NOTA_CH', 'NU_NOTA_LC']].mean(axis=1)\n",
    "test['medias'] = test[['NU_NOTA_CN', 'NU_NOTA_CH', 'NU_NOTA_LC']].mean(axis=1)"
   ]
  },
  {
   "cell_type": "code",
   "execution_count": 40,
   "metadata": {},
   "outputs": [],
   "source": [
    "from category_encoders.cat_boost import CatBoostEncoder"
   ]
  },
  {
   "cell_type": "code",
   "execution_count": 59,
   "metadata": {},
   "outputs": [],
   "source": [
    "X = train.drop('IN_TREINEIRO',axis=1)\n",
    "y = train['IN_TREINEIRO']\n"
   ]
  },
  {
   "cell_type": "code",
   "execution_count": 60,
   "metadata": {},
   "outputs": [],
   "source": [
    "cat_boost = CatBoostEncoder(cols=cats,drop_invariant=True,return_df=True,handle_missing='value')\n",
    "train_boosted = cat_boost.fit_transform(X,y)\n",
    "test_boosted = cat_boost.transform(test)"
   ]
  },
  {
   "cell_type": "code",
   "execution_count": 70,
   "metadata": {},
   "outputs": [],
   "source": [
    "train_boosted.to_csv('data/train_boosted.csv',index=False)\n",
    "test_boosted.to_csv('data/test_boosted.csv',index=False)"
   ]
  },
  {
   "cell_type": "code",
   "execution_count": 65,
   "metadata": {},
   "outputs": [
    {
     "output_type": "execute_result",
     "data": {
      "text/plain": "CO_UF_RESIDENCIA      int64\nNU_IDADE              int64\nTP_SEXO             float64\nTP_COR_RACA         float64\nTP_NACIONALIDADE    float64\nTP_ST_CONCLUSAO     float64\nTP_ANO_CONCLUIU       int64\nTP_PRESENCA_MT        int64\nNU_NOTA_CN          float64\nNU_NOTA_CH          float64\nNU_NOTA_LC          float64\nTP_LINGUA             int64\nQ001                float64\nQ002                float64\nQ006                float64\nQ024                float64\nQ025                float64\nQ026                float64\nQ027                float64\nQ047                float64\nATEND_ESPE1           int64\nATEND_ESPE2           int64\nmedias              float64\ndtype: object"
     },
     "metadata": {},
     "execution_count": 65
    }
   ],
   "source": [
    "train_boosted.dtypes"
   ]
  },
  {
   "cell_type": "code",
   "execution_count": 66,
   "metadata": {},
   "outputs": [],
   "source": [
    "from tpot import TPOTClassifier"
   ]
  },
  {
   "cell_type": "code",
   "execution_count": 71,
   "metadata": {
    "tags": []
   },
   "outputs": [
    {
     "output_type": "stream",
     "name": "stdout",
     "text": "Optimization Progress:   9%|▉         | 94/1050 [09:50<2:31:19,  9.50s/pipeline]\nOptimization Progress:  14%|█▎        | 144/1050 [15:37<1:44:51,  6.94s/pipeline]\nOptimization Progress:  19%|█▉        | 201/1050 [24:56<2:57:04, 12.51s/pipeline]\nOptimization Progress:  23%|██▎       | 245/1050 [27:38<1:04:22,  4.80s/pipeline]\nOptimization Progress:  28%|██▊       | 296/1050 [31:41<1:01:06,  4.86s/pipeline]\nOptimization Progress:  33%|███▎      | 346/1050 [35:03<47:11,  4.02s/pipeline]\nOptimization Progress:  38%|███▊      | 394/1050 [38:44<56:51,  5.20s/pipeline]\nOptimization Progress:  43%|████▎     | 451/1050 [42:34<42:06,  4.22s/pipeline]\nOptimization Progress:  47%|████▋     | 494/1050 [46:17<52:47,  5.70s/pipeline]\nOptimization Progress:  52%|█████▏    | 551/1050 [49:31<35:11,  4.23s/pipeline]\nOptimization Progress:  57%|█████▋    | 594/1050 [54:24<45:06,  5.94s/pipeline]\nOptimization Progress:  61%|██████▏   | 644/1050 [57:21<28:28,  4.21s/pipeline]\nOptimization Progress:  67%|██████▋   | 701/1050 [1:03:17<46:51,  8.06s/pipeline]\nOptimization Progress:  71%|███████   | 744/1050 [1:10:57<50:56,  9.99s/pipeline]\nOptimization Progress:  76%|███████▌  | 794/1050 [1:14:38<19:21,  4.54s/pipeline]\nOptimization Progress:  81%|████████  | 850/1050 [1:19:43<19:49,  5.95s/pipeline]\nOptimization Progress:  85%|████████▌ | 895/1050 [1:22:04<08:20,  3.23s/pipeline]\nOptimization Progress:  90%|█████████ | 950/1050 [1:27:03<12:07,  7.27s/pipeline]\nOptimization Progress:  95%|█████████▌| 1001/1050 [1:31:21<03:45,  4.60s/pipeline]\nOptimization Progress:  99%|█████████▉| 1044/1050 [1:36:12<00:46,  7.82s/pipeline]\nGeneration 20 - Current best internal CV score: 0.9929964388359604\nBest pipeline: XGBClassifier(DecisionTreeClassifier(input_matrix, criterion=gini, max_depth=4, min_samples_leaf=7, min_samples_split=4), learning_rate=0.1, max_depth=9, min_child_weight=20, n_estimators=100, nthread=1, subsample=0.9500000000000001)\n"
    },
    {
     "output_type": "execute_result",
     "data": {
      "text/plain": "TPOTClassifier(generations=20,\n               log_file=<ipykernel.iostream.OutStream object at 0x7f2c9e68a2d0>,\n               n_jobs=3, population_size=50, random_state=42,\n               scoring='f1_macro', verbosity=2)"
     },
     "metadata": {},
     "execution_count": 71
    }
   ],
   "source": [
    "pipeline_optimizer = TPOTClassifier(generations=20, population_size=50,scoring='f1_macro',n_jobs=3,random_state=42,verbosity=2)\n",
    "pipeline_optimizer.fit(train_boosted,y)"
   ]
  },
  {
   "cell_type": "code",
   "execution_count": 72,
   "metadata": {},
   "outputs": [
    {
     "output_type": "execute_result",
     "data": {
      "text/plain": "0.9931635230838802"
     },
     "metadata": {},
     "execution_count": 72
    }
   ],
   "source": [
    "pipeline_optimizer.score(train_boosted, y)"
   ]
  },
  {
   "cell_type": "code",
   "execution_count": 73,
   "metadata": {},
   "outputs": [],
   "source": [
    "pipeline_optimizer.export('tpot_exported_pipeline.py')"
   ]
  },
  {
   "cell_type": "markdown",
   "metadata": {},
   "source": [
    "# Arquivo de submissão"
   ]
  },
  {
   "cell_type": "code",
   "execution_count": 74,
   "metadata": {},
   "outputs": [],
   "source": [
    "y_test_predict = pipeline_optimizer.predict(test_boosted)"
   ]
  },
  {
   "cell_type": "code",
   "execution_count": 75,
   "metadata": {},
   "outputs": [
    {
     "output_type": "execute_result",
     "data": {
      "text/plain": "                               NU_INSCRICAO IN_TREINEIRO\n0  ba0cc30ba34e7a46764c09dfc38ed83d15828897            0\n1  177f281c68fa032aedbd842a745da68490926cd2            0\n2  6cf0d8b97597d7625cdedc7bdb6c0f052286c334            1\n3  5c356d810fa57671402502cd0933e5601a2ebf1e            0\n4  df47c07bd881c2db3f38c6048bf77c132ad0ceb3            0",
      "text/html": "<div>\n<style scoped>\n    .dataframe tbody tr th:only-of-type {\n        vertical-align: middle;\n    }\n\n    .dataframe tbody tr th {\n        vertical-align: top;\n    }\n\n    .dataframe thead th {\n        text-align: right;\n    }\n</style>\n<table border=\"1\" class=\"dataframe\">\n  <thead>\n    <tr style=\"text-align: right;\">\n      <th></th>\n      <th>NU_INSCRICAO</th>\n      <th>IN_TREINEIRO</th>\n    </tr>\n  </thead>\n  <tbody>\n    <tr>\n      <th>0</th>\n      <td>ba0cc30ba34e7a46764c09dfc38ed83d15828897</td>\n      <td>0</td>\n    </tr>\n    <tr>\n      <th>1</th>\n      <td>177f281c68fa032aedbd842a745da68490926cd2</td>\n      <td>0</td>\n    </tr>\n    <tr>\n      <th>2</th>\n      <td>6cf0d8b97597d7625cdedc7bdb6c0f052286c334</td>\n      <td>1</td>\n    </tr>\n    <tr>\n      <th>3</th>\n      <td>5c356d810fa57671402502cd0933e5601a2ebf1e</td>\n      <td>0</td>\n    </tr>\n    <tr>\n      <th>4</th>\n      <td>df47c07bd881c2db3f38c6048bf77c132ad0ceb3</td>\n      <td>0</td>\n    </tr>\n  </tbody>\n</table>\n</div>"
     },
     "metadata": {},
     "execution_count": 75
    }
   ],
   "source": [
    "answer=pd.DataFrame(data=np.transpose([test.index,y_test_predict]),columns=['NU_INSCRICAO','IN_TREINEIRO'])\n",
    "answer.head()"
   ]
  },
  {
   "cell_type": "code",
   "execution_count": 76,
   "metadata": {},
   "outputs": [],
   "source": [
    "answer.to_csv('data/answer.csv',index=False)"
   ]
  }
 ],
 "metadata": {
  "kernelspec": {
   "display_name": "Python 3",
   "language": "python",
   "name": "python3"
  },
  "language_info": {
   "codemirror_mode": {
    "name": "ipython",
    "version": 3
   },
   "file_extension": ".py",
   "mimetype": "text/x-python",
   "name": "python",
   "nbconvert_exporter": "python",
   "pygments_lexer": "ipython3",
   "version": "3.7.6-final"
  }
 },
 "nbformat": 4,
 "nbformat_minor": 4
}