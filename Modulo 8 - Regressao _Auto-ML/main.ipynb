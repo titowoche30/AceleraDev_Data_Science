{
 "cells": [
  {
   "cell_type": "code",
   "execution_count": 1,
   "metadata": {},
   "outputs": [],
   "source": [
    "import numpy as np\n",
    "import pandas as pd\n",
    "import matplotlib.pyplot as plt\n",
    "import seaborn as sns"
   ]
  },
  {
   "cell_type": "code",
   "execution_count": 11,
   "metadata": {},
   "outputs": [],
   "source": [
    "train = pd.read_csv('data/train.csv',index_col='NU_INSCRICAO')\n",
    "train.drop('Unnamed: 0',axis=1,inplace=True)\n",
    "test = pd.read_csv('data/test.csv',index_col='NU_INSCRICAO')"
   ]
  },
  {
   "cell_type": "code",
   "execution_count": 3,
   "metadata": {},
   "outputs": [
    {
     "output_type": "execute_result",
     "data": {
      "text/plain": "                                          NU_ANO  CO_MUNICIPIO_RESIDENCIA  \\\nNU_INSCRICAO                                                                \ned50e8aaa58e7a806c337585efee9ca41f1eb1ad    2016                  4314902   \n2c3acac4b33ec2b195d77e7c04a2d75727fad723    2016                  2304707   \nf4545f8ccb9ff5c8aad7d32951b3f251a26e6568    2016                  2304400   \n3d6ec248fef899c414e77f82d5c6d2bffbeaf7fe    2016                  3304557   \nbf896ac8d3ecadd6dba1dfbf50110afcbf5d3268    2016                  1302603   \n\n                                         NO_MUNICIPIO_RESIDENCIA  \\\nNU_INSCRICAO                                                       \ned50e8aaa58e7a806c337585efee9ca41f1eb1ad            Porto Alegre   \n2c3acac4b33ec2b195d77e7c04a2d75727fad723                  Granja   \nf4545f8ccb9ff5c8aad7d32951b3f251a26e6568               Fortaleza   \n3d6ec248fef899c414e77f82d5c6d2bffbeaf7fe          Rio de Janeiro   \nbf896ac8d3ecadd6dba1dfbf50110afcbf5d3268                  Manaus   \n\n                                          CO_UF_RESIDENCIA SG_UF_RESIDENCIA  \\\nNU_INSCRICAO                                                                  \ned50e8aaa58e7a806c337585efee9ca41f1eb1ad                43               RS   \n2c3acac4b33ec2b195d77e7c04a2d75727fad723                23               CE   \nf4545f8ccb9ff5c8aad7d32951b3f251a26e6568                23               CE   \n3d6ec248fef899c414e77f82d5c6d2bffbeaf7fe                33               RJ   \nbf896ac8d3ecadd6dba1dfbf50110afcbf5d3268                13               AM   \n\n                                          NU_IDADE TP_SEXO  TP_ESTADO_CIVIL  \\\nNU_INSCRICAO                                                                  \ned50e8aaa58e7a806c337585efee9ca41f1eb1ad        24       M              0.0   \n2c3acac4b33ec2b195d77e7c04a2d75727fad723        17       F              0.0   \nf4545f8ccb9ff5c8aad7d32951b3f251a26e6568        21       F              0.0   \n3d6ec248fef899c414e77f82d5c6d2bffbeaf7fe        25       F              0.0   \nbf896ac8d3ecadd6dba1dfbf50110afcbf5d3268        28       M              0.0   \n\n                                          TP_COR_RACA  TP_NACIONALIDADE  ...  \\\nNU_INSCRICAO                                                             ...   \ned50e8aaa58e7a806c337585efee9ca41f1eb1ad            1                 1  ...   \n2c3acac4b33ec2b195d77e7c04a2d75727fad723            3                 1  ...   \nf4545f8ccb9ff5c8aad7d32951b3f251a26e6568            3                 1  ...   \n3d6ec248fef899c414e77f82d5c6d2bffbeaf7fe            0                 1  ...   \nbf896ac8d3ecadd6dba1dfbf50110afcbf5d3268            2                 1  ...   \n\n                                          Q041 Q042  Q043 Q044  Q045  Q046  \\\nNU_INSCRICAO                                                                 \ned50e8aaa58e7a806c337585efee9ca41f1eb1ad   5.0    A     A    A     A     A   \n2c3acac4b33ec2b195d77e7c04a2d75727fad723   NaN    A     A    C     A     B   \nf4545f8ccb9ff5c8aad7d32951b3f251a26e6568   NaN    A     A    A     A     C   \n3d6ec248fef899c414e77f82d5c6d2bffbeaf7fe   5.0    C     A    A     A     A   \nbf896ac8d3ecadd6dba1dfbf50110afcbf5d3268   NaN    A     A    A     A     A   \n\n                                          Q047  Q048  Q049  Q050  \nNU_INSCRICAO                                                      \ned50e8aaa58e7a806c337585efee9ca41f1eb1ad     A     A     B     D  \n2c3acac4b33ec2b195d77e7c04a2d75727fad723     A     A     C     A  \nf4545f8ccb9ff5c8aad7d32951b3f251a26e6568     A     A     B     A  \n3d6ec248fef899c414e77f82d5c6d2bffbeaf7fe     D     A     A     A  \nbf896ac8d3ecadd6dba1dfbf50110afcbf5d3268     A     A     A     A  \n\n[5 rows x 165 columns]",
      "text/html": "<div>\n<style scoped>\n    .dataframe tbody tr th:only-of-type {\n        vertical-align: middle;\n    }\n\n    .dataframe tbody tr th {\n        vertical-align: top;\n    }\n\n    .dataframe thead th {\n        text-align: right;\n    }\n</style>\n<table border=\"1\" class=\"dataframe\">\n  <thead>\n    <tr style=\"text-align: right;\">\n      <th></th>\n      <th>NU_ANO</th>\n      <th>CO_MUNICIPIO_RESIDENCIA</th>\n      <th>NO_MUNICIPIO_RESIDENCIA</th>\n      <th>CO_UF_RESIDENCIA</th>\n      <th>SG_UF_RESIDENCIA</th>\n      <th>NU_IDADE</th>\n      <th>TP_SEXO</th>\n      <th>TP_ESTADO_CIVIL</th>\n      <th>TP_COR_RACA</th>\n      <th>TP_NACIONALIDADE</th>\n      <th>...</th>\n      <th>Q041</th>\n      <th>Q042</th>\n      <th>Q043</th>\n      <th>Q044</th>\n      <th>Q045</th>\n      <th>Q046</th>\n      <th>Q047</th>\n      <th>Q048</th>\n      <th>Q049</th>\n      <th>Q050</th>\n    </tr>\n    <tr>\n      <th>NU_INSCRICAO</th>\n      <th></th>\n      <th></th>\n      <th></th>\n      <th></th>\n      <th></th>\n      <th></th>\n      <th></th>\n      <th></th>\n      <th></th>\n      <th></th>\n      <th></th>\n      <th></th>\n      <th></th>\n      <th></th>\n      <th></th>\n      <th></th>\n      <th></th>\n      <th></th>\n      <th></th>\n      <th></th>\n      <th></th>\n    </tr>\n  </thead>\n  <tbody>\n    <tr>\n      <th>ed50e8aaa58e7a806c337585efee9ca41f1eb1ad</th>\n      <td>2016</td>\n      <td>4314902</td>\n      <td>Porto Alegre</td>\n      <td>43</td>\n      <td>RS</td>\n      <td>24</td>\n      <td>M</td>\n      <td>0.0</td>\n      <td>1</td>\n      <td>1</td>\n      <td>...</td>\n      <td>5.0</td>\n      <td>A</td>\n      <td>A</td>\n      <td>A</td>\n      <td>A</td>\n      <td>A</td>\n      <td>A</td>\n      <td>A</td>\n      <td>B</td>\n      <td>D</td>\n    </tr>\n    <tr>\n      <th>2c3acac4b33ec2b195d77e7c04a2d75727fad723</th>\n      <td>2016</td>\n      <td>2304707</td>\n      <td>Granja</td>\n      <td>23</td>\n      <td>CE</td>\n      <td>17</td>\n      <td>F</td>\n      <td>0.0</td>\n      <td>3</td>\n      <td>1</td>\n      <td>...</td>\n      <td>NaN</td>\n      <td>A</td>\n      <td>A</td>\n      <td>C</td>\n      <td>A</td>\n      <td>B</td>\n      <td>A</td>\n      <td>A</td>\n      <td>C</td>\n      <td>A</td>\n    </tr>\n    <tr>\n      <th>f4545f8ccb9ff5c8aad7d32951b3f251a26e6568</th>\n      <td>2016</td>\n      <td>2304400</td>\n      <td>Fortaleza</td>\n      <td>23</td>\n      <td>CE</td>\n      <td>21</td>\n      <td>F</td>\n      <td>0.0</td>\n      <td>3</td>\n      <td>1</td>\n      <td>...</td>\n      <td>NaN</td>\n      <td>A</td>\n      <td>A</td>\n      <td>A</td>\n      <td>A</td>\n      <td>C</td>\n      <td>A</td>\n      <td>A</td>\n      <td>B</td>\n      <td>A</td>\n    </tr>\n    <tr>\n      <th>3d6ec248fef899c414e77f82d5c6d2bffbeaf7fe</th>\n      <td>2016</td>\n      <td>3304557</td>\n      <td>Rio de Janeiro</td>\n      <td>33</td>\n      <td>RJ</td>\n      <td>25</td>\n      <td>F</td>\n      <td>0.0</td>\n      <td>0</td>\n      <td>1</td>\n      <td>...</td>\n      <td>5.0</td>\n      <td>C</td>\n      <td>A</td>\n      <td>A</td>\n      <td>A</td>\n      <td>A</td>\n      <td>D</td>\n      <td>A</td>\n      <td>A</td>\n      <td>A</td>\n    </tr>\n    <tr>\n      <th>bf896ac8d3ecadd6dba1dfbf50110afcbf5d3268</th>\n      <td>2016</td>\n      <td>1302603</td>\n      <td>Manaus</td>\n      <td>13</td>\n      <td>AM</td>\n      <td>28</td>\n      <td>M</td>\n      <td>0.0</td>\n      <td>2</td>\n      <td>1</td>\n      <td>...</td>\n      <td>NaN</td>\n      <td>A</td>\n      <td>A</td>\n      <td>A</td>\n      <td>A</td>\n      <td>A</td>\n      <td>A</td>\n      <td>A</td>\n      <td>A</td>\n      <td>A</td>\n    </tr>\n  </tbody>\n</table>\n<p>5 rows × 165 columns</p>\n</div>"
     },
     "metadata": {},
     "execution_count": 3
    }
   ],
   "source": [
    "train.head()"
   ]
  },
  {
   "cell_type": "code",
   "execution_count": 4,
   "metadata": {},
   "outputs": [
    {
     "output_type": "execute_result",
     "data": {
      "text/plain": "                                          CO_UF_RESIDENCIA SG_UF_RESIDENCIA  \\\nNU_INSCRICAO                                                                  \n73ff9fcc02f0a99919906c942c2e1a1042cdcf98                41               PR   \n71a95f9f1b91a82c65ad94abbdf9f54e6066f968                21               MA   \nb38a03232f43b11c9d0788abaf060f7366053b6d                23               CE   \n70b682d9a3636be23f6120fa9d6b164eb3c6002d                15               PA   \n715494628a50142ce8cb17191cfe6d0f3cae0934                41               PR   \n\n                                          NU_IDADE TP_SEXO  TP_COR_RACA  \\\nNU_INSCRICAO                                                              \n73ff9fcc02f0a99919906c942c2e1a1042cdcf98        22       F            3   \n71a95f9f1b91a82c65ad94abbdf9f54e6066f968        26       F            3   \nb38a03232f43b11c9d0788abaf060f7366053b6d        21       M            1   \n70b682d9a3636be23f6120fa9d6b164eb3c6002d        27       F            3   \n715494628a50142ce8cb17191cfe6d0f3cae0934        18       M            1   \n\n                                          TP_NACIONALIDADE  TP_ST_CONCLUSAO  \\\nNU_INSCRICAO                                                                  \n73ff9fcc02f0a99919906c942c2e1a1042cdcf98                 1                1   \n71a95f9f1b91a82c65ad94abbdf9f54e6066f968                 1                1   \nb38a03232f43b11c9d0788abaf060f7366053b6d                 1                2   \n70b682d9a3636be23f6120fa9d6b164eb3c6002d                 1                1   \n715494628a50142ce8cb17191cfe6d0f3cae0934                 1                2   \n\n                                          TP_ANO_CONCLUIU  TP_ESCOLA  \\\nNU_INSCRICAO                                                           \n73ff9fcc02f0a99919906c942c2e1a1042cdcf98                5          1   \n71a95f9f1b91a82c65ad94abbdf9f54e6066f968                8          1   \nb38a03232f43b11c9d0788abaf060f7366053b6d                0          2   \n70b682d9a3636be23f6120fa9d6b164eb3c6002d                8          1   \n715494628a50142ce8cb17191cfe6d0f3cae0934                0          2   \n\n                                          TP_ENSINO  ...  NU_NOTA_COMP5  \\\nNU_INSCRICAO                                         ...                  \n73ff9fcc02f0a99919906c942c2e1a1042cdcf98        NaN  ...           40.0   \n71a95f9f1b91a82c65ad94abbdf9f54e6066f968        NaN  ...          100.0   \nb38a03232f43b11c9d0788abaf060f7366053b6d        3.0  ...           80.0   \n70b682d9a3636be23f6120fa9d6b164eb3c6002d        NaN  ...            NaN   \n715494628a50142ce8cb17191cfe6d0f3cae0934        1.0  ...            0.0   \n\n                                          NU_NOTA_REDACAO  Q001  Q002  Q006  \\\nNU_INSCRICAO                                                                  \n73ff9fcc02f0a99919906c942c2e1a1042cdcf98            420.0     B     A     C   \n71a95f9f1b91a82c65ad94abbdf9f54e6066f968            580.0     E     B     C   \nb38a03232f43b11c9d0788abaf060f7366053b6d            320.0     E     E     D   \n70b682d9a3636be23f6120fa9d6b164eb3c6002d              NaN     H     E     G   \n715494628a50142ce8cb17191cfe6d0f3cae0934            320.0     D     H     H   \n\n                                          Q024  Q025  Q026  Q027  Q047  \nNU_INSCRICAO                                                            \n73ff9fcc02f0a99919906c942c2e1a1042cdcf98     A     A     C     C     A  \n71a95f9f1b91a82c65ad94abbdf9f54e6066f968     B     B     B     F     A  \nb38a03232f43b11c9d0788abaf060f7366053b6d     B     B     A   NaN     A  \n70b682d9a3636be23f6120fa9d6b164eb3c6002d     B     B     A   NaN     A  \n715494628a50142ce8cb17191cfe6d0f3cae0934     C     B     A   NaN     A  \n\n[5 rows x 46 columns]",
      "text/html": "<div>\n<style scoped>\n    .dataframe tbody tr th:only-of-type {\n        vertical-align: middle;\n    }\n\n    .dataframe tbody tr th {\n        vertical-align: top;\n    }\n\n    .dataframe thead th {\n        text-align: right;\n    }\n</style>\n<table border=\"1\" class=\"dataframe\">\n  <thead>\n    <tr style=\"text-align: right;\">\n      <th></th>\n      <th>CO_UF_RESIDENCIA</th>\n      <th>SG_UF_RESIDENCIA</th>\n      <th>NU_IDADE</th>\n      <th>TP_SEXO</th>\n      <th>TP_COR_RACA</th>\n      <th>TP_NACIONALIDADE</th>\n      <th>TP_ST_CONCLUSAO</th>\n      <th>TP_ANO_CONCLUIU</th>\n      <th>TP_ESCOLA</th>\n      <th>TP_ENSINO</th>\n      <th>...</th>\n      <th>NU_NOTA_COMP5</th>\n      <th>NU_NOTA_REDACAO</th>\n      <th>Q001</th>\n      <th>Q002</th>\n      <th>Q006</th>\n      <th>Q024</th>\n      <th>Q025</th>\n      <th>Q026</th>\n      <th>Q027</th>\n      <th>Q047</th>\n    </tr>\n    <tr>\n      <th>NU_INSCRICAO</th>\n      <th></th>\n      <th></th>\n      <th></th>\n      <th></th>\n      <th></th>\n      <th></th>\n      <th></th>\n      <th></th>\n      <th></th>\n      <th></th>\n      <th></th>\n      <th></th>\n      <th></th>\n      <th></th>\n      <th></th>\n      <th></th>\n      <th></th>\n      <th></th>\n      <th></th>\n      <th></th>\n      <th></th>\n    </tr>\n  </thead>\n  <tbody>\n    <tr>\n      <th>73ff9fcc02f0a99919906c942c2e1a1042cdcf98</th>\n      <td>41</td>\n      <td>PR</td>\n      <td>22</td>\n      <td>F</td>\n      <td>3</td>\n      <td>1</td>\n      <td>1</td>\n      <td>5</td>\n      <td>1</td>\n      <td>NaN</td>\n      <td>...</td>\n      <td>40.0</td>\n      <td>420.0</td>\n      <td>B</td>\n      <td>A</td>\n      <td>C</td>\n      <td>A</td>\n      <td>A</td>\n      <td>C</td>\n      <td>C</td>\n      <td>A</td>\n    </tr>\n    <tr>\n      <th>71a95f9f1b91a82c65ad94abbdf9f54e6066f968</th>\n      <td>21</td>\n      <td>MA</td>\n      <td>26</td>\n      <td>F</td>\n      <td>3</td>\n      <td>1</td>\n      <td>1</td>\n      <td>8</td>\n      <td>1</td>\n      <td>NaN</td>\n      <td>...</td>\n      <td>100.0</td>\n      <td>580.0</td>\n      <td>E</td>\n      <td>B</td>\n      <td>C</td>\n      <td>B</td>\n      <td>B</td>\n      <td>B</td>\n      <td>F</td>\n      <td>A</td>\n    </tr>\n    <tr>\n      <th>b38a03232f43b11c9d0788abaf060f7366053b6d</th>\n      <td>23</td>\n      <td>CE</td>\n      <td>21</td>\n      <td>M</td>\n      <td>1</td>\n      <td>1</td>\n      <td>2</td>\n      <td>0</td>\n      <td>2</td>\n      <td>3.0</td>\n      <td>...</td>\n      <td>80.0</td>\n      <td>320.0</td>\n      <td>E</td>\n      <td>E</td>\n      <td>D</td>\n      <td>B</td>\n      <td>B</td>\n      <td>A</td>\n      <td>NaN</td>\n      <td>A</td>\n    </tr>\n    <tr>\n      <th>70b682d9a3636be23f6120fa9d6b164eb3c6002d</th>\n      <td>15</td>\n      <td>PA</td>\n      <td>27</td>\n      <td>F</td>\n      <td>3</td>\n      <td>1</td>\n      <td>1</td>\n      <td>8</td>\n      <td>1</td>\n      <td>NaN</td>\n      <td>...</td>\n      <td>NaN</td>\n      <td>NaN</td>\n      <td>H</td>\n      <td>E</td>\n      <td>G</td>\n      <td>B</td>\n      <td>B</td>\n      <td>A</td>\n      <td>NaN</td>\n      <td>A</td>\n    </tr>\n    <tr>\n      <th>715494628a50142ce8cb17191cfe6d0f3cae0934</th>\n      <td>41</td>\n      <td>PR</td>\n      <td>18</td>\n      <td>M</td>\n      <td>1</td>\n      <td>1</td>\n      <td>2</td>\n      <td>0</td>\n      <td>2</td>\n      <td>1.0</td>\n      <td>...</td>\n      <td>0.0</td>\n      <td>320.0</td>\n      <td>D</td>\n      <td>H</td>\n      <td>H</td>\n      <td>C</td>\n      <td>B</td>\n      <td>A</td>\n      <td>NaN</td>\n      <td>A</td>\n    </tr>\n  </tbody>\n</table>\n<p>5 rows × 46 columns</p>\n</div>"
     },
     "metadata": {},
     "execution_count": 4
    }
   ],
   "source": [
    "test.head()"
   ]
  },
  {
   "cell_type": "code",
   "execution_count": 5,
   "metadata": {},
   "outputs": [
    {
     "output_type": "execute_result",
     "data": {
      "text/plain": "(13730, 165)"
     },
     "metadata": {},
     "execution_count": 5
    }
   ],
   "source": [
    "train.shape"
   ]
  },
  {
   "cell_type": "code",
   "execution_count": 6,
   "metadata": {},
   "outputs": [
    {
     "output_type": "execute_result",
     "data": {
      "text/plain": "(4576, 46)"
     },
     "metadata": {},
     "execution_count": 6
    }
   ],
   "source": [
    "test.shape"
   ]
  },
  {
   "cell_type": "code",
   "execution_count": 7,
   "metadata": {},
   "outputs": [],
   "source": [
    "extra_cols=set(train.columns) - set(test.columns)"
   ]
  },
  {
   "cell_type": "code",
   "execution_count": 12,
   "metadata": {},
   "outputs": [
    {
     "output_type": "execute_result",
     "data": {
      "text/plain": "                                          CO_UF_RESIDENCIA SG_UF_RESIDENCIA  \\\nNU_INSCRICAO                                                                  \ned50e8aaa58e7a806c337585efee9ca41f1eb1ad                43               RS   \n2c3acac4b33ec2b195d77e7c04a2d75727fad723                23               CE   \nf4545f8ccb9ff5c8aad7d32951b3f251a26e6568                23               CE   \n3d6ec248fef899c414e77f82d5c6d2bffbeaf7fe                33               RJ   \nbf896ac8d3ecadd6dba1dfbf50110afcbf5d3268                13               AM   \n\n                                          NU_IDADE TP_SEXO  TP_COR_RACA  \\\nNU_INSCRICAO                                                              \ned50e8aaa58e7a806c337585efee9ca41f1eb1ad        24       M            1   \n2c3acac4b33ec2b195d77e7c04a2d75727fad723        17       F            3   \nf4545f8ccb9ff5c8aad7d32951b3f251a26e6568        21       F            3   \n3d6ec248fef899c414e77f82d5c6d2bffbeaf7fe        25       F            0   \nbf896ac8d3ecadd6dba1dfbf50110afcbf5d3268        28       M            2   \n\n                                          TP_NACIONALIDADE  TP_ST_CONCLUSAO  \\\nNU_INSCRICAO                                                                  \ned50e8aaa58e7a806c337585efee9ca41f1eb1ad                 1                1   \n2c3acac4b33ec2b195d77e7c04a2d75727fad723                 1                2   \nf4545f8ccb9ff5c8aad7d32951b3f251a26e6568                 1                3   \n3d6ec248fef899c414e77f82d5c6d2bffbeaf7fe                 1                1   \nbf896ac8d3ecadd6dba1dfbf50110afcbf5d3268                 1                1   \n\n                                          TP_ANO_CONCLUIU  TP_ESCOLA  \\\nNU_INSCRICAO                                                           \ned50e8aaa58e7a806c337585efee9ca41f1eb1ad                4          1   \n2c3acac4b33ec2b195d77e7c04a2d75727fad723                0          2   \nf4545f8ccb9ff5c8aad7d32951b3f251a26e6568                0          1   \n3d6ec248fef899c414e77f82d5c6d2bffbeaf7fe                9          1   \nbf896ac8d3ecadd6dba1dfbf50110afcbf5d3268                4          1   \n\n                                          TP_ENSINO  ...  NU_NOTA_REDACAO  \\\nNU_INSCRICAO                                         ...                    \ned50e8aaa58e7a806c337585efee9ca41f1eb1ad        NaN  ...            520.0   \n2c3acac4b33ec2b195d77e7c04a2d75727fad723        1.0  ...            580.0   \nf4545f8ccb9ff5c8aad7d32951b3f251a26e6568        NaN  ...              NaN   \n3d6ec248fef899c414e77f82d5c6d2bffbeaf7fe        NaN  ...              NaN   \nbf896ac8d3ecadd6dba1dfbf50110afcbf5d3268        NaN  ...              NaN   \n\n                                          Q001  Q002  Q006  Q024  Q025  Q026  \\\nNU_INSCRICAO                                                                   \ned50e8aaa58e7a806c337585efee9ca41f1eb1ad     D     D     C     A     A     C   \n2c3acac4b33ec2b195d77e7c04a2d75727fad723     A     A     B     A     A     A   \nf4545f8ccb9ff5c8aad7d32951b3f251a26e6568     D     D     C     A     A     A   \n3d6ec248fef899c414e77f82d5c6d2bffbeaf7fe     H     E     E     C     B     C   \nbf896ac8d3ecadd6dba1dfbf50110afcbf5d3268     E     D     C     A     A     B   \n\n                                          Q027  Q047  NU_NOTA_MT  \nNU_INSCRICAO                                                      \ned50e8aaa58e7a806c337585efee9ca41f1eb1ad     H     A       399.4  \n2c3acac4b33ec2b195d77e7c04a2d75727fad723   NaN     A       459.8  \nf4545f8ccb9ff5c8aad7d32951b3f251a26e6568   NaN     A         NaN  \n3d6ec248fef899c414e77f82d5c6d2bffbeaf7fe     F     D         NaN  \nbf896ac8d3ecadd6dba1dfbf50110afcbf5d3268     F     A         NaN  \n\n[5 rows x 47 columns]",
      "text/html": "<div>\n<style scoped>\n    .dataframe tbody tr th:only-of-type {\n        vertical-align: middle;\n    }\n\n    .dataframe tbody tr th {\n        vertical-align: top;\n    }\n\n    .dataframe thead th {\n        text-align: right;\n    }\n</style>\n<table border=\"1\" class=\"dataframe\">\n  <thead>\n    <tr style=\"text-align: right;\">\n      <th></th>\n      <th>CO_UF_RESIDENCIA</th>\n      <th>SG_UF_RESIDENCIA</th>\n      <th>NU_IDADE</th>\n      <th>TP_SEXO</th>\n      <th>TP_COR_RACA</th>\n      <th>TP_NACIONALIDADE</th>\n      <th>TP_ST_CONCLUSAO</th>\n      <th>TP_ANO_CONCLUIU</th>\n      <th>TP_ESCOLA</th>\n      <th>TP_ENSINO</th>\n      <th>...</th>\n      <th>NU_NOTA_REDACAO</th>\n      <th>Q001</th>\n      <th>Q002</th>\n      <th>Q006</th>\n      <th>Q024</th>\n      <th>Q025</th>\n      <th>Q026</th>\n      <th>Q027</th>\n      <th>Q047</th>\n      <th>NU_NOTA_MT</th>\n    </tr>\n    <tr>\n      <th>NU_INSCRICAO</th>\n      <th></th>\n      <th></th>\n      <th></th>\n      <th></th>\n      <th></th>\n      <th></th>\n      <th></th>\n      <th></th>\n      <th></th>\n      <th></th>\n      <th></th>\n      <th></th>\n      <th></th>\n      <th></th>\n      <th></th>\n      <th></th>\n      <th></th>\n      <th></th>\n      <th></th>\n      <th></th>\n      <th></th>\n    </tr>\n  </thead>\n  <tbody>\n    <tr>\n      <th>ed50e8aaa58e7a806c337585efee9ca41f1eb1ad</th>\n      <td>43</td>\n      <td>RS</td>\n      <td>24</td>\n      <td>M</td>\n      <td>1</td>\n      <td>1</td>\n      <td>1</td>\n      <td>4</td>\n      <td>1</td>\n      <td>NaN</td>\n      <td>...</td>\n      <td>520.0</td>\n      <td>D</td>\n      <td>D</td>\n      <td>C</td>\n      <td>A</td>\n      <td>A</td>\n      <td>C</td>\n      <td>H</td>\n      <td>A</td>\n      <td>399.4</td>\n    </tr>\n    <tr>\n      <th>2c3acac4b33ec2b195d77e7c04a2d75727fad723</th>\n      <td>23</td>\n      <td>CE</td>\n      <td>17</td>\n      <td>F</td>\n      <td>3</td>\n      <td>1</td>\n      <td>2</td>\n      <td>0</td>\n      <td>2</td>\n      <td>1.0</td>\n      <td>...</td>\n      <td>580.0</td>\n      <td>A</td>\n      <td>A</td>\n      <td>B</td>\n      <td>A</td>\n      <td>A</td>\n      <td>A</td>\n      <td>NaN</td>\n      <td>A</td>\n      <td>459.8</td>\n    </tr>\n    <tr>\n      <th>f4545f8ccb9ff5c8aad7d32951b3f251a26e6568</th>\n      <td>23</td>\n      <td>CE</td>\n      <td>21</td>\n      <td>F</td>\n      <td>3</td>\n      <td>1</td>\n      <td>3</td>\n      <td>0</td>\n      <td>1</td>\n      <td>NaN</td>\n      <td>...</td>\n      <td>NaN</td>\n      <td>D</td>\n      <td>D</td>\n      <td>C</td>\n      <td>A</td>\n      <td>A</td>\n      <td>A</td>\n      <td>NaN</td>\n      <td>A</td>\n      <td>NaN</td>\n    </tr>\n    <tr>\n      <th>3d6ec248fef899c414e77f82d5c6d2bffbeaf7fe</th>\n      <td>33</td>\n      <td>RJ</td>\n      <td>25</td>\n      <td>F</td>\n      <td>0</td>\n      <td>1</td>\n      <td>1</td>\n      <td>9</td>\n      <td>1</td>\n      <td>NaN</td>\n      <td>...</td>\n      <td>NaN</td>\n      <td>H</td>\n      <td>E</td>\n      <td>E</td>\n      <td>C</td>\n      <td>B</td>\n      <td>C</td>\n      <td>F</td>\n      <td>D</td>\n      <td>NaN</td>\n    </tr>\n    <tr>\n      <th>bf896ac8d3ecadd6dba1dfbf50110afcbf5d3268</th>\n      <td>13</td>\n      <td>AM</td>\n      <td>28</td>\n      <td>M</td>\n      <td>2</td>\n      <td>1</td>\n      <td>1</td>\n      <td>4</td>\n      <td>1</td>\n      <td>NaN</td>\n      <td>...</td>\n      <td>NaN</td>\n      <td>E</td>\n      <td>D</td>\n      <td>C</td>\n      <td>A</td>\n      <td>A</td>\n      <td>B</td>\n      <td>F</td>\n      <td>A</td>\n      <td>NaN</td>\n    </tr>\n  </tbody>\n</table>\n<p>5 rows × 47 columns</p>\n</div>"
     },
     "metadata": {},
     "execution_count": 12
    }
   ],
   "source": [
    "train = train[test.columns].join(train['NU_NOTA_MT'])\n",
    "train.head()"
   ]
  },
  {
   "cell_type": "code",
   "execution_count": 13,
   "metadata": {},
   "outputs": [
    {
     "output_type": "execute_result",
     "data": {
      "text/plain": "Index(['CO_UF_RESIDENCIA', 'SG_UF_RESIDENCIA', 'NU_IDADE', 'TP_SEXO',\n       'TP_COR_RACA', 'TP_NACIONALIDADE', 'TP_ST_CONCLUSAO', 'TP_ANO_CONCLUIU',\n       'TP_ESCOLA', 'TP_ENSINO', 'IN_TREINEIRO', 'TP_DEPENDENCIA_ADM_ESC',\n       'IN_BAIXA_VISAO', 'IN_CEGUEIRA', 'IN_SURDEZ', 'IN_DISLEXIA',\n       'IN_DISCALCULIA', 'IN_SABATISTA', 'IN_GESTANTE', 'IN_IDOSO',\n       'TP_PRESENCA_CN', 'TP_PRESENCA_CH', 'TP_PRESENCA_LC', 'CO_PROVA_CN',\n       'CO_PROVA_CH', 'CO_PROVA_LC', 'CO_PROVA_MT', 'NU_NOTA_CN', 'NU_NOTA_CH',\n       'NU_NOTA_LC', 'TP_LINGUA', 'TP_STATUS_REDACAO', 'NU_NOTA_COMP1',\n       'NU_NOTA_COMP2', 'NU_NOTA_COMP3', 'NU_NOTA_COMP4', 'NU_NOTA_COMP5',\n       'NU_NOTA_REDACAO', 'Q001', 'Q002', 'Q006', 'Q024', 'Q025', 'Q026',\n       'Q027', 'Q047', 'NU_NOTA_MT'],\n      dtype='object')"
     },
     "metadata": {},
     "execution_count": 13
    }
   ],
   "source": [
    "train.columns"
   ]
  },
  {
   "cell_type": "code",
   "execution_count": 14,
   "metadata": {},
   "outputs": [
    {
     "output_type": "execute_result",
     "data": {
      "text/plain": "       CO_UF_RESIDENCIA      NU_IDADE   TP_COR_RACA  TP_NACIONALIDADE  \\\ncount      13730.000000  13730.000000  13730.000000      13730.000000   \nmean          30.736708     21.593809      2.185652          1.048871   \nstd            9.862405      7.043654      1.007285          0.258895   \nmin           11.000000     13.000000      0.000000          0.000000   \n25%           23.000000     17.000000      1.000000          1.000000   \n50%           31.000000     19.000000      3.000000          1.000000   \n75%           35.000000     23.000000      3.000000          1.000000   \nmax           53.000000     67.000000      5.000000          4.000000   \n\n       TP_ST_CONCLUSAO  TP_ANO_CONCLUIU     TP_ESCOLA    TP_ENSINO  \\\ncount     13730.000000     13730.000000  13730.000000  4282.000000   \nmean          1.782666         2.146176      1.353532     1.178888   \nstd           0.880734         3.217328      0.558472     0.565490   \nmin           1.000000         0.000000      1.000000     1.000000   \n25%           1.000000         0.000000      1.000000     1.000000   \n50%           2.000000         0.000000      1.000000     1.000000   \n75%           2.000000         3.000000      2.000000     1.000000   \nmax           4.000000        10.000000      4.000000     3.000000   \n\n       IN_TREINEIRO  TP_DEPENDENCIA_ADM_ESC  ...    NU_NOTA_LC     TP_LINGUA  \\\ncount  13730.000000             4282.000000  ...  10133.000000  13730.000000   \nmean       0.129862                2.259692  ...    516.472841      0.593664   \nstd        0.336163                0.698586  ...     68.688190      0.491167   \nmin        0.000000                1.000000  ...      0.000000      0.000000   \n25%        0.000000                2.000000  ...    468.100000      0.000000   \n50%        0.000000                2.000000  ...    520.900000      1.000000   \n75%        0.000000                2.000000  ...    564.900000      1.000000   \nmax        1.000000                4.000000  ...    763.600000      1.000000   \n\n       TP_STATUS_REDACAO  NU_NOTA_COMP1  NU_NOTA_COMP2  NU_NOTA_COMP3  \\\ncount       10133.000000   10133.000000   10133.000000   10133.000000   \nmean            1.101747     119.811704     111.915918     106.824238   \nstd             0.700100      29.846017      33.737588      34.341349   \nmin             1.000000       0.000000       0.000000       0.000000   \n25%             1.000000     120.000000     100.000000      80.000000   \n50%             1.000000     120.000000     120.000000     120.000000   \n75%             1.000000     140.000000     120.000000     120.000000   \nmax             9.000000     200.000000     200.000000     200.000000   \n\n       NU_NOTA_COMP4  NU_NOTA_COMP5  NU_NOTA_REDACAO    NU_NOTA_MT  \ncount   10133.000000   10133.000000     10133.000000  10133.000000  \nmean      113.123951      77.372446       529.048258    482.497928  \nstd        33.480033      43.067140       154.294758     99.826323  \nmin         0.000000       0.000000         0.000000      0.000000  \n25%       100.000000      40.000000       440.000000    408.900000  \n50%       120.000000      80.000000       540.000000    461.200000  \n75%       120.000000     100.000000       600.000000    537.600000  \nmax       200.000000     200.000000      1000.000000    952.000000  \n\n[8 rows x 33 columns]",
      "text/html": "<div>\n<style scoped>\n    .dataframe tbody tr th:only-of-type {\n        vertical-align: middle;\n    }\n\n    .dataframe tbody tr th {\n        vertical-align: top;\n    }\n\n    .dataframe thead th {\n        text-align: right;\n    }\n</style>\n<table border=\"1\" class=\"dataframe\">\n  <thead>\n    <tr style=\"text-align: right;\">\n      <th></th>\n      <th>CO_UF_RESIDENCIA</th>\n      <th>NU_IDADE</th>\n      <th>TP_COR_RACA</th>\n      <th>TP_NACIONALIDADE</th>\n      <th>TP_ST_CONCLUSAO</th>\n      <th>TP_ANO_CONCLUIU</th>\n      <th>TP_ESCOLA</th>\n      <th>TP_ENSINO</th>\n      <th>IN_TREINEIRO</th>\n      <th>TP_DEPENDENCIA_ADM_ESC</th>\n      <th>...</th>\n      <th>NU_NOTA_LC</th>\n      <th>TP_LINGUA</th>\n      <th>TP_STATUS_REDACAO</th>\n      <th>NU_NOTA_COMP1</th>\n      <th>NU_NOTA_COMP2</th>\n      <th>NU_NOTA_COMP3</th>\n      <th>NU_NOTA_COMP4</th>\n      <th>NU_NOTA_COMP5</th>\n      <th>NU_NOTA_REDACAO</th>\n      <th>NU_NOTA_MT</th>\n    </tr>\n  </thead>\n  <tbody>\n    <tr>\n      <th>count</th>\n      <td>13730.000000</td>\n      <td>13730.000000</td>\n      <td>13730.000000</td>\n      <td>13730.000000</td>\n      <td>13730.000000</td>\n      <td>13730.000000</td>\n      <td>13730.000000</td>\n      <td>4282.000000</td>\n      <td>13730.000000</td>\n      <td>4282.000000</td>\n      <td>...</td>\n      <td>10133.000000</td>\n      <td>13730.000000</td>\n      <td>10133.000000</td>\n      <td>10133.000000</td>\n      <td>10133.000000</td>\n      <td>10133.000000</td>\n      <td>10133.000000</td>\n      <td>10133.000000</td>\n      <td>10133.000000</td>\n      <td>10133.000000</td>\n    </tr>\n    <tr>\n      <th>mean</th>\n      <td>30.736708</td>\n      <td>21.593809</td>\n      <td>2.185652</td>\n      <td>1.048871</td>\n      <td>1.782666</td>\n      <td>2.146176</td>\n      <td>1.353532</td>\n      <td>1.178888</td>\n      <td>0.129862</td>\n      <td>2.259692</td>\n      <td>...</td>\n      <td>516.472841</td>\n      <td>0.593664</td>\n      <td>1.101747</td>\n      <td>119.811704</td>\n      <td>111.915918</td>\n      <td>106.824238</td>\n      <td>113.123951</td>\n      <td>77.372446</td>\n      <td>529.048258</td>\n      <td>482.497928</td>\n    </tr>\n    <tr>\n      <th>std</th>\n      <td>9.862405</td>\n      <td>7.043654</td>\n      <td>1.007285</td>\n      <td>0.258895</td>\n      <td>0.880734</td>\n      <td>3.217328</td>\n      <td>0.558472</td>\n      <td>0.565490</td>\n      <td>0.336163</td>\n      <td>0.698586</td>\n      <td>...</td>\n      <td>68.688190</td>\n      <td>0.491167</td>\n      <td>0.700100</td>\n      <td>29.846017</td>\n      <td>33.737588</td>\n      <td>34.341349</td>\n      <td>33.480033</td>\n      <td>43.067140</td>\n      <td>154.294758</td>\n      <td>99.826323</td>\n    </tr>\n    <tr>\n      <th>min</th>\n      <td>11.000000</td>\n      <td>13.000000</td>\n      <td>0.000000</td>\n      <td>0.000000</td>\n      <td>1.000000</td>\n      <td>0.000000</td>\n      <td>1.000000</td>\n      <td>1.000000</td>\n      <td>0.000000</td>\n      <td>1.000000</td>\n      <td>...</td>\n      <td>0.000000</td>\n      <td>0.000000</td>\n      <td>1.000000</td>\n      <td>0.000000</td>\n      <td>0.000000</td>\n      <td>0.000000</td>\n      <td>0.000000</td>\n      <td>0.000000</td>\n      <td>0.000000</td>\n      <td>0.000000</td>\n    </tr>\n    <tr>\n      <th>25%</th>\n      <td>23.000000</td>\n      <td>17.000000</td>\n      <td>1.000000</td>\n      <td>1.000000</td>\n      <td>1.000000</td>\n      <td>0.000000</td>\n      <td>1.000000</td>\n      <td>1.000000</td>\n      <td>0.000000</td>\n      <td>2.000000</td>\n      <td>...</td>\n      <td>468.100000</td>\n      <td>0.000000</td>\n      <td>1.000000</td>\n      <td>120.000000</td>\n      <td>100.000000</td>\n      <td>80.000000</td>\n      <td>100.000000</td>\n      <td>40.000000</td>\n      <td>440.000000</td>\n      <td>408.900000</td>\n    </tr>\n    <tr>\n      <th>50%</th>\n      <td>31.000000</td>\n      <td>19.000000</td>\n      <td>3.000000</td>\n      <td>1.000000</td>\n      <td>2.000000</td>\n      <td>0.000000</td>\n      <td>1.000000</td>\n      <td>1.000000</td>\n      <td>0.000000</td>\n      <td>2.000000</td>\n      <td>...</td>\n      <td>520.900000</td>\n      <td>1.000000</td>\n      <td>1.000000</td>\n      <td>120.000000</td>\n      <td>120.000000</td>\n      <td>120.000000</td>\n      <td>120.000000</td>\n      <td>80.000000</td>\n      <td>540.000000</td>\n      <td>461.200000</td>\n    </tr>\n    <tr>\n      <th>75%</th>\n      <td>35.000000</td>\n      <td>23.000000</td>\n      <td>3.000000</td>\n      <td>1.000000</td>\n      <td>2.000000</td>\n      <td>3.000000</td>\n      <td>2.000000</td>\n      <td>1.000000</td>\n      <td>0.000000</td>\n      <td>2.000000</td>\n      <td>...</td>\n      <td>564.900000</td>\n      <td>1.000000</td>\n      <td>1.000000</td>\n      <td>140.000000</td>\n      <td>120.000000</td>\n      <td>120.000000</td>\n      <td>120.000000</td>\n      <td>100.000000</td>\n      <td>600.000000</td>\n      <td>537.600000</td>\n    </tr>\n    <tr>\n      <th>max</th>\n      <td>53.000000</td>\n      <td>67.000000</td>\n      <td>5.000000</td>\n      <td>4.000000</td>\n      <td>4.000000</td>\n      <td>10.000000</td>\n      <td>4.000000</td>\n      <td>3.000000</td>\n      <td>1.000000</td>\n      <td>4.000000</td>\n      <td>...</td>\n      <td>763.600000</td>\n      <td>1.000000</td>\n      <td>9.000000</td>\n      <td>200.000000</td>\n      <td>200.000000</td>\n      <td>200.000000</td>\n      <td>200.000000</td>\n      <td>200.000000</td>\n      <td>1000.000000</td>\n      <td>952.000000</td>\n    </tr>\n  </tbody>\n</table>\n<p>8 rows × 33 columns</p>\n</div>"
     },
     "metadata": {},
     "execution_count": 14
    }
   ],
   "source": [
    "train.describe()"
   ]
  },
  {
   "cell_type": "code",
   "execution_count": 15,
   "metadata": {
    "scrolled": true
   },
   "outputs": [
    {
     "output_type": "execute_result",
     "data": {
      "text/plain": "CO_UF_RESIDENCIA             0\nSG_UF_RESIDENCIA             0\nNU_IDADE                     0\nTP_SEXO                      0\nTP_COR_RACA                  0\nTP_NACIONALIDADE             0\nTP_ST_CONCLUSAO              0\nTP_ANO_CONCLUIU              0\nTP_ESCOLA                    0\nTP_ENSINO                 9448\nIN_TREINEIRO                 0\nTP_DEPENDENCIA_ADM_ESC    9448\nIN_BAIXA_VISAO               0\nIN_CEGUEIRA                  0\nIN_SURDEZ                    0\nIN_DISLEXIA                  0\nIN_DISCALCULIA               0\nIN_SABATISTA                 0\nIN_GESTANTE                  0\nIN_IDOSO                     0\nTP_PRESENCA_CN               0\nTP_PRESENCA_CH               0\nTP_PRESENCA_LC               0\nCO_PROVA_CN                  0\nCO_PROVA_CH                  0\nCO_PROVA_LC                  0\nCO_PROVA_MT                  0\nNU_NOTA_CN                3389\nNU_NOTA_CH                3389\nNU_NOTA_LC                3597\nTP_LINGUA                    0\nTP_STATUS_REDACAO         3597\nNU_NOTA_COMP1             3597\nNU_NOTA_COMP2             3597\nNU_NOTA_COMP3             3597\nNU_NOTA_COMP4             3597\nNU_NOTA_COMP5             3597\nNU_NOTA_REDACAO           3597\nQ001                         0\nQ002                         0\nQ006                         0\nQ024                         0\nQ025                         0\nQ026                         0\nQ027                      7373\nQ047                         0\nNU_NOTA_MT                3597\ndtype: int64"
     },
     "metadata": {},
     "execution_count": 15
    }
   ],
   "source": [
    "train.isnull().sum()"
   ]
  },
  {
   "cell_type": "code",
   "execution_count": 16,
   "metadata": {
    "collapsed": true
   },
   "outputs": [
    {
     "output_type": "execute_result",
     "data": {
      "text/plain": "                                          TP_STATUS_REDACAO  NU_NOTA_COMP1  \\\nNU_INSCRICAO                                                                 \nf4545f8ccb9ff5c8aad7d32951b3f251a26e6568                NaN            NaN   \n3d6ec248fef899c414e77f82d5c6d2bffbeaf7fe                NaN            NaN   \nbf896ac8d3ecadd6dba1dfbf50110afcbf5d3268                NaN            NaN   \n94f7e277f87cd58e10a45da4ad5dd168651cf3ef                NaN            NaN   \n8570b9be0b2b629d00743d0de77cd95a84a46fbc                NaN            NaN   \n...                                                     ...            ...   \nbc6ea97fcc031786198e58ca5485d2648a2145fb                NaN            NaN   \ne60cbd0026dae31e4f0580a909465c83355ea282                NaN            NaN   \n99cfec493fefde4fcec60fd8c1e3eb1fe891fb31                NaN            NaN   \n00bb288d1b225bf07136b1d6e5a20a0fa7f7e2a9                NaN            NaN   \na78cd7c85a7ed2a29190ed3e40a8cf8dad2d7335                NaN            NaN   \n\n                                          NU_NOTA_COMP2  NU_NOTA_COMP3  \\\nNU_INSCRICAO                                                             \nf4545f8ccb9ff5c8aad7d32951b3f251a26e6568            NaN            NaN   \n3d6ec248fef899c414e77f82d5c6d2bffbeaf7fe            NaN            NaN   \nbf896ac8d3ecadd6dba1dfbf50110afcbf5d3268            NaN            NaN   \n94f7e277f87cd58e10a45da4ad5dd168651cf3ef            NaN            NaN   \n8570b9be0b2b629d00743d0de77cd95a84a46fbc            NaN            NaN   \n...                                                 ...            ...   \nbc6ea97fcc031786198e58ca5485d2648a2145fb            NaN            NaN   \ne60cbd0026dae31e4f0580a909465c83355ea282            NaN            NaN   \n99cfec493fefde4fcec60fd8c1e3eb1fe891fb31            NaN            NaN   \n00bb288d1b225bf07136b1d6e5a20a0fa7f7e2a9            NaN            NaN   \na78cd7c85a7ed2a29190ed3e40a8cf8dad2d7335            NaN            NaN   \n\n                                          NU_NOTA_COMP4  NU_NOTA_COMP5  \\\nNU_INSCRICAO                                                             \nf4545f8ccb9ff5c8aad7d32951b3f251a26e6568            NaN            NaN   \n3d6ec248fef899c414e77f82d5c6d2bffbeaf7fe            NaN            NaN   \nbf896ac8d3ecadd6dba1dfbf50110afcbf5d3268            NaN            NaN   \n94f7e277f87cd58e10a45da4ad5dd168651cf3ef            NaN            NaN   \n8570b9be0b2b629d00743d0de77cd95a84a46fbc            NaN            NaN   \n...                                                 ...            ...   \nbc6ea97fcc031786198e58ca5485d2648a2145fb            NaN            NaN   \ne60cbd0026dae31e4f0580a909465c83355ea282            NaN            NaN   \n99cfec493fefde4fcec60fd8c1e3eb1fe891fb31            NaN            NaN   \n00bb288d1b225bf07136b1d6e5a20a0fa7f7e2a9            NaN            NaN   \na78cd7c85a7ed2a29190ed3e40a8cf8dad2d7335            NaN            NaN   \n\n                                          NU_NOTA_REDACAO Q001 Q002 Q006 Q024  \\\nNU_INSCRICAO                                                                    \nf4545f8ccb9ff5c8aad7d32951b3f251a26e6568              NaN    D    D    C    A   \n3d6ec248fef899c414e77f82d5c6d2bffbeaf7fe              NaN    H    E    E    C   \nbf896ac8d3ecadd6dba1dfbf50110afcbf5d3268              NaN    E    D    C    A   \n94f7e277f87cd58e10a45da4ad5dd168651cf3ef              NaN    H    E    G    B   \n8570b9be0b2b629d00743d0de77cd95a84a46fbc              NaN    D    D    C    B   \n...                                                   ...  ...  ...  ...  ...   \nbc6ea97fcc031786198e58ca5485d2648a2145fb              NaN    C    B    B    B   \ne60cbd0026dae31e4f0580a909465c83355ea282              NaN    C    C    D    B   \n99cfec493fefde4fcec60fd8c1e3eb1fe891fb31              NaN    B    E    D    B   \n00bb288d1b225bf07136b1d6e5a20a0fa7f7e2a9              NaN    C    C    G    B   \na78cd7c85a7ed2a29190ed3e40a8cf8dad2d7335              NaN    C    B    D    B   \n\n                                         Q025 Q026 Q027 Q047  NU_NOTA_MT  \nNU_INSCRICAO                                                              \nf4545f8ccb9ff5c8aad7d32951b3f251a26e6568    A    A  NaN    A         NaN  \n3d6ec248fef899c414e77f82d5c6d2bffbeaf7fe    B    C    F    D         NaN  \nbf896ac8d3ecadd6dba1dfbf50110afcbf5d3268    A    B    F    A         NaN  \n94f7e277f87cd58e10a45da4ad5dd168651cf3ef    B    B    H    A         NaN  \n8570b9be0b2b629d00743d0de77cd95a84a46fbc    B    C    F    A         NaN  \n...                                       ...  ...  ...  ...         ...  \nbc6ea97fcc031786198e58ca5485d2648a2145fb    B    A  NaN    A         NaN  \ne60cbd0026dae31e4f0580a909465c83355ea282    B    B    I    A         NaN  \n99cfec493fefde4fcec60fd8c1e3eb1fe891fb31    B    C    B    A         NaN  \n00bb288d1b225bf07136b1d6e5a20a0fa7f7e2a9    B    C  NaN    A         NaN  \na78cd7c85a7ed2a29190ed3e40a8cf8dad2d7335    B    B    D    A         NaN  \n\n[3597 rows x 16 columns]",
      "text/html": "<div>\n<style scoped>\n    .dataframe tbody tr th:only-of-type {\n        vertical-align: middle;\n    }\n\n    .dataframe tbody tr th {\n        vertical-align: top;\n    }\n\n    .dataframe thead th {\n        text-align: right;\n    }\n</style>\n<table border=\"1\" class=\"dataframe\">\n  <thead>\n    <tr style=\"text-align: right;\">\n      <th></th>\n      <th>TP_STATUS_REDACAO</th>\n      <th>NU_NOTA_COMP1</th>\n      <th>NU_NOTA_COMP2</th>\n      <th>NU_NOTA_COMP3</th>\n      <th>NU_NOTA_COMP4</th>\n      <th>NU_NOTA_COMP5</th>\n      <th>NU_NOTA_REDACAO</th>\n      <th>Q001</th>\n      <th>Q002</th>\n      <th>Q006</th>\n      <th>Q024</th>\n      <th>Q025</th>\n      <th>Q026</th>\n      <th>Q027</th>\n      <th>Q047</th>\n      <th>NU_NOTA_MT</th>\n    </tr>\n    <tr>\n      <th>NU_INSCRICAO</th>\n      <th></th>\n      <th></th>\n      <th></th>\n      <th></th>\n      <th></th>\n      <th></th>\n      <th></th>\n      <th></th>\n      <th></th>\n      <th></th>\n      <th></th>\n      <th></th>\n      <th></th>\n      <th></th>\n      <th></th>\n      <th></th>\n    </tr>\n  </thead>\n  <tbody>\n    <tr>\n      <th>f4545f8ccb9ff5c8aad7d32951b3f251a26e6568</th>\n      <td>NaN</td>\n      <td>NaN</td>\n      <td>NaN</td>\n      <td>NaN</td>\n      <td>NaN</td>\n      <td>NaN</td>\n      <td>NaN</td>\n      <td>D</td>\n      <td>D</td>\n      <td>C</td>\n      <td>A</td>\n      <td>A</td>\n      <td>A</td>\n      <td>NaN</td>\n      <td>A</td>\n      <td>NaN</td>\n    </tr>\n    <tr>\n      <th>3d6ec248fef899c414e77f82d5c6d2bffbeaf7fe</th>\n      <td>NaN</td>\n      <td>NaN</td>\n      <td>NaN</td>\n      <td>NaN</td>\n      <td>NaN</td>\n      <td>NaN</td>\n      <td>NaN</td>\n      <td>H</td>\n      <td>E</td>\n      <td>E</td>\n      <td>C</td>\n      <td>B</td>\n      <td>C</td>\n      <td>F</td>\n      <td>D</td>\n      <td>NaN</td>\n    </tr>\n    <tr>\n      <th>bf896ac8d3ecadd6dba1dfbf50110afcbf5d3268</th>\n      <td>NaN</td>\n      <td>NaN</td>\n      <td>NaN</td>\n      <td>NaN</td>\n      <td>NaN</td>\n      <td>NaN</td>\n      <td>NaN</td>\n      <td>E</td>\n      <td>D</td>\n      <td>C</td>\n      <td>A</td>\n      <td>A</td>\n      <td>B</td>\n      <td>F</td>\n      <td>A</td>\n      <td>NaN</td>\n    </tr>\n    <tr>\n      <th>94f7e277f87cd58e10a45da4ad5dd168651cf3ef</th>\n      <td>NaN</td>\n      <td>NaN</td>\n      <td>NaN</td>\n      <td>NaN</td>\n      <td>NaN</td>\n      <td>NaN</td>\n      <td>NaN</td>\n      <td>H</td>\n      <td>E</td>\n      <td>G</td>\n      <td>B</td>\n      <td>B</td>\n      <td>B</td>\n      <td>H</td>\n      <td>A</td>\n      <td>NaN</td>\n    </tr>\n    <tr>\n      <th>8570b9be0b2b629d00743d0de77cd95a84a46fbc</th>\n      <td>NaN</td>\n      <td>NaN</td>\n      <td>NaN</td>\n      <td>NaN</td>\n      <td>NaN</td>\n      <td>NaN</td>\n      <td>NaN</td>\n      <td>D</td>\n      <td>D</td>\n      <td>C</td>\n      <td>B</td>\n      <td>B</td>\n      <td>C</td>\n      <td>F</td>\n      <td>A</td>\n      <td>NaN</td>\n    </tr>\n    <tr>\n      <th>...</th>\n      <td>...</td>\n      <td>...</td>\n      <td>...</td>\n      <td>...</td>\n      <td>...</td>\n      <td>...</td>\n      <td>...</td>\n      <td>...</td>\n      <td>...</td>\n      <td>...</td>\n      <td>...</td>\n      <td>...</td>\n      <td>...</td>\n      <td>...</td>\n      <td>...</td>\n      <td>...</td>\n    </tr>\n    <tr>\n      <th>bc6ea97fcc031786198e58ca5485d2648a2145fb</th>\n      <td>NaN</td>\n      <td>NaN</td>\n      <td>NaN</td>\n      <td>NaN</td>\n      <td>NaN</td>\n      <td>NaN</td>\n      <td>NaN</td>\n      <td>C</td>\n      <td>B</td>\n      <td>B</td>\n      <td>B</td>\n      <td>B</td>\n      <td>A</td>\n      <td>NaN</td>\n      <td>A</td>\n      <td>NaN</td>\n    </tr>\n    <tr>\n      <th>e60cbd0026dae31e4f0580a909465c83355ea282</th>\n      <td>NaN</td>\n      <td>NaN</td>\n      <td>NaN</td>\n      <td>NaN</td>\n      <td>NaN</td>\n      <td>NaN</td>\n      <td>NaN</td>\n      <td>C</td>\n      <td>C</td>\n      <td>D</td>\n      <td>B</td>\n      <td>B</td>\n      <td>B</td>\n      <td>I</td>\n      <td>A</td>\n      <td>NaN</td>\n    </tr>\n    <tr>\n      <th>99cfec493fefde4fcec60fd8c1e3eb1fe891fb31</th>\n      <td>NaN</td>\n      <td>NaN</td>\n      <td>NaN</td>\n      <td>NaN</td>\n      <td>NaN</td>\n      <td>NaN</td>\n      <td>NaN</td>\n      <td>B</td>\n      <td>E</td>\n      <td>D</td>\n      <td>B</td>\n      <td>B</td>\n      <td>C</td>\n      <td>B</td>\n      <td>A</td>\n      <td>NaN</td>\n    </tr>\n    <tr>\n      <th>00bb288d1b225bf07136b1d6e5a20a0fa7f7e2a9</th>\n      <td>NaN</td>\n      <td>NaN</td>\n      <td>NaN</td>\n      <td>NaN</td>\n      <td>NaN</td>\n      <td>NaN</td>\n      <td>NaN</td>\n      <td>C</td>\n      <td>C</td>\n      <td>G</td>\n      <td>B</td>\n      <td>B</td>\n      <td>C</td>\n      <td>NaN</td>\n      <td>A</td>\n      <td>NaN</td>\n    </tr>\n    <tr>\n      <th>a78cd7c85a7ed2a29190ed3e40a8cf8dad2d7335</th>\n      <td>NaN</td>\n      <td>NaN</td>\n      <td>NaN</td>\n      <td>NaN</td>\n      <td>NaN</td>\n      <td>NaN</td>\n      <td>NaN</td>\n      <td>C</td>\n      <td>B</td>\n      <td>D</td>\n      <td>B</td>\n      <td>B</td>\n      <td>B</td>\n      <td>D</td>\n      <td>A</td>\n      <td>NaN</td>\n    </tr>\n  </tbody>\n</table>\n<p>3597 rows × 16 columns</p>\n</div>"
     },
     "metadata": {},
     "execution_count": 16
    }
   ],
   "source": [
    "#Quem n tem status_redacao, não tem competências nem nota\n",
    "train.loc[train['TP_STATUS_REDACAO'].isnull(),'TP_STATUS_REDACAO':]"
   ]
  },
  {
   "cell_type": "code",
   "execution_count": 17,
   "metadata": {},
   "outputs": [],
   "source": [
    "#Dropar por informação redundante: ['SG_UF_RESIDENCIA','TP_PRESENCA_CN', 'TP_PRESENCA_CH', 'TP_PRESENCA_LC']\n",
    "#Dropar por ter muitos nulos e a maioria dos não nulos são uma informação específica, o que acaba não acrescentando em nada:['TP_ENSINO','TP_DEPENDENCIA_ADM_ESC']\n",
    "#Dropar por excesso de nulos: '[TP_STATUS_REDACAO', 'NU_NOTA_COMP1','NU_NOTA_COMP2', 'NU_NOTA_COMP3', 'NU_NOTA_COMP4', 'NU_NOTA_COMP5','NU_NOTA_REDACAO']\n",
    "#Dropar por informação inútil:['CO_PROVA_CN','CO_PROVA_CH', 'CO_PROVA_LC', 'CO_PROVA_MT']\n",
    "train.drop(['SG_UF_RESIDENCIA','TP_PRESENCA_CN', 'TP_PRESENCA_CH', 'TP_PRESENCA_LC','TP_ENSINO',\n",
    "            'TP_DEPENDENCIA_ADM_ESC','TP_STATUS_REDACAO', 'NU_NOTA_COMP1','NU_NOTA_COMP2', 'NU_NOTA_COMP3',\n",
    "            'NU_NOTA_COMP4', 'NU_NOTA_COMP5','NU_NOTA_REDACAO','CO_PROVA_CN','CO_PROVA_CH', 'CO_PROVA_LC',\n",
    "            'CO_PROVA_MT'],axis=1,inplace=True)\n",
    "test.drop(['SG_UF_RESIDENCIA','TP_PRESENCA_CN', 'TP_PRESENCA_CH', 'TP_PRESENCA_LC','TP_ENSINO',\n",
    "            'TP_DEPENDENCIA_ADM_ESC','TP_STATUS_REDACAO', 'NU_NOTA_COMP1','NU_NOTA_COMP2', 'NU_NOTA_COMP3',\n",
    "            'NU_NOTA_COMP4', 'NU_NOTA_COMP5','NU_NOTA_REDACAO','CO_PROVA_CN','CO_PROVA_CH', 'CO_PROVA_LC',\n",
    "            'CO_PROVA_MT'],axis=1,inplace=True)"
   ]
  },
  {
   "cell_type": "code",
   "execution_count": 18,
   "metadata": {},
   "outputs": [
    {
     "output_type": "execute_result",
     "data": {
      "text/plain": "Index(['CO_UF_RESIDENCIA', 'NU_IDADE', 'TP_SEXO', 'TP_COR_RACA',\n       'TP_NACIONALIDADE', 'TP_ST_CONCLUSAO', 'TP_ANO_CONCLUIU', 'TP_ESCOLA',\n       'IN_TREINEIRO', 'IN_BAIXA_VISAO', 'IN_CEGUEIRA', 'IN_SURDEZ',\n       'IN_DISLEXIA', 'IN_DISCALCULIA', 'IN_SABATISTA', 'IN_GESTANTE',\n       'IN_IDOSO', 'NU_NOTA_CN', 'NU_NOTA_CH', 'NU_NOTA_LC', 'TP_LINGUA',\n       'Q001', 'Q002', 'Q006', 'Q024', 'Q025', 'Q026', 'Q027', 'Q047',\n       'NU_NOTA_MT'],\n      dtype='object')"
     },
     "metadata": {},
     "execution_count": 18
    }
   ],
   "source": [
    "train.columns"
   ]
  },
  {
   "cell_type": "code",
   "execution_count": 18,
   "metadata": {},
   "outputs": [],
   "source": [
    "#Substituir os nulos de NU_NOTA_CN,NU_NOTA_LC,NU_NOTA_CH e NU_NOTA_MT por 0 pq esses foram os eliminados e faltantes.\n",
    "train[['NU_NOTA_CN','NU_NOTA_CH','NU_NOTA_MT','NU_NOTA_LC']]=train[['NU_NOTA_CN','NU_NOTA_CH','NU_NOTA_MT','NU_NOTA_LC']].fillna(value=0)\n",
    "test[['NU_NOTA_CN','NU_NOTA_CH','NU_NOTA_LC']]=test[['NU_NOTA_CN','NU_NOTA_CH','NU_NOTA_LC']].fillna(value=0)"
   ]
  },
  {
   "cell_type": "code",
   "execution_count": 19,
   "metadata": {},
   "outputs": [],
   "source": [
    "#Substituir os nulos de 'Q027'  por N pq esse são os que nunca exerceram atividade.\n",
    "train['Q027']=train['Q027'].fillna(value='N')\n",
    "test['Q027']=test['Q027'].fillna(value='N')"
   ]
  },
  {
   "cell_type": "code",
   "execution_count": 804,
   "metadata": {},
   "outputs": [],
   "source": [
    "# #Transformar em ordinais: Q001,Q002\n",
    "# #Os dois vão de A a H.\n",
    "# #Com A..G = [1,...,7] e H = 0\n",
    "# rep_dic = {'A':1,'B':2,'C':3,'D':4,'E':5,'F':6,'G':7,'H':0,}\n",
    "# train[['Q001','Q002']] = train[['Q001','Q002']].replace(rep_dic)\n",
    "# test[['Q001','Q002']] = test[['Q001','Q002']].replace(rep_dic)"
   ]
  },
  {
   "cell_type": "code",
   "execution_count": 20,
   "metadata": {},
   "outputs": [],
   "source": [
    "#Transforma em só uma coluna com soma de ( 'IN_BAIXA_VISAO', 'IN_CEGUEIRA', 'IN_SURDEZ', 'IN_DISLEXIA','IN_DISCALCULIA') \n",
    "#e ('IN_SABATISTA', 'IN_GESTANTE', 'IN_IDOSO')\n",
    "train['ATEND_ESPE1'] = train[['IN_BAIXA_VISAO', 'IN_CEGUEIRA', 'IN_SURDEZ', 'IN_DISLEXIA','IN_DISCALCULIA']].sum(axis=1)\n",
    "test['ATEND_ESPE1'] = test[['IN_BAIXA_VISAO', 'IN_CEGUEIRA', 'IN_SURDEZ', 'IN_DISLEXIA','IN_DISCALCULIA']].sum(axis=1)\n",
    "\n",
    "train['ATEND_ESPE2'] = train[['IN_SABATISTA', 'IN_GESTANTE', 'IN_IDOSO']].sum(axis=1)\n",
    "test['ATEND_ESPE2'] = test[['IN_SABATISTA', 'IN_GESTANTE', 'IN_IDOSO']].sum(axis=1)\n",
    "\n",
    "\n",
    "train.drop(['IN_BAIXA_VISAO', 'IN_CEGUEIRA', 'IN_SURDEZ', 'IN_DISLEXIA','IN_DISCALCULIA','IN_SABATISTA', 'IN_GESTANTE', 'IN_IDOSO'],axis=1,inplace=True)\n",
    "test.drop(['IN_BAIXA_VISAO', 'IN_CEGUEIRA', 'IN_SURDEZ', 'IN_DISLEXIA','IN_DISCALCULIA','IN_SABATISTA', 'IN_GESTANTE', 'IN_IDOSO'],axis=1,inplace=True)"
   ]
  },
  {
   "cell_type": "code",
   "execution_count": 21,
   "metadata": {},
   "outputs": [],
   "source": [
    "#0 são nulos) de: ['TP_COR_RACA','TP_NACIONALIDADE']\n",
    "rep_dic_0 = {1:'A',2:'B',3:'C',4:'D',5:'E',0:np.nan}\n",
    "train[['TP_COR_RACA','TP_NACIONALIDADE']] = train[['TP_COR_RACA','TP_NACIONALIDADE']].replace(rep_dic_0)\n",
    "test[['TP_COR_RACA','TP_NACIONALIDADE']] = test[['TP_COR_RACA','TP_NACIONALIDADE']].replace(rep_dic_0)\n",
    "\n",
    "#Dropar os 1(que são nulos) de: ['TP_ESCOLA']\n",
    "rep_dic_1 = {1:np.nan,2:'B',3:'C',4:'D'}\n",
    "train['TP_ESCOLA'] = train['TP_ESCOLA'].replace(rep_dic_1)\n",
    "test['TP_ESCOLA'] = test['TP_ESCOLA'].replace(rep_dic_1)\n",
    "\n",
    "rep_dic_2 = {1:'A',2:'B',3:'C',4:'D'}\n",
    "train['TP_ST_CONCLUSAO'] = train['TP_ST_CONCLUSAO'].replace(rep_dic_2)\n",
    "test['TP_ST_CONCLUSAO'] = test['TP_ST_CONCLUSAO'].replace(rep_dic_2)\n"
   ]
  },
  {
   "cell_type": "code",
   "execution_count": 22,
   "metadata": {},
   "outputs": [],
   "source": [
    "cats = ['TP_COR_RACA','TP_NACIONALIDADE','TP_ESCOLA','TP_ST_CONCLUSAO'] + ['Q001','Q002','Q006','Q024','Q026','Q027','Q047','TP_SEXO','Q025']\n"
   ]
  },
  {
   "cell_type": "code",
   "execution_count": 23,
   "metadata": {},
   "outputs": [],
   "source": [
    "numerical_cols = set(train.columns) - set(cats)"
   ]
  },
  {
   "cell_type": "code",
   "execution_count": 24,
   "metadata": {
    "scrolled": true
   },
   "outputs": [
    {
     "output_type": "execute_result",
     "data": {
      "text/plain": "IN_TREINEIRO        0\nNU_NOTA_CH          0\nNU_NOTA_CN          0\nATEND_ESPE1         0\nTP_ANO_CONCLUIU     0\nATEND_ESPE2         0\nNU_IDADE            0\nNU_NOTA_MT          0\nNU_NOTA_LC          0\nCO_UF_RESIDENCIA    0\nTP_LINGUA           0\ndtype: int64"
     },
     "metadata": {},
     "execution_count": 24
    }
   ],
   "source": [
    "train[numerical_cols].isnull().sum()"
   ]
  },
  {
   "cell_type": "code",
   "execution_count": 25,
   "metadata": {
    "tags": []
   },
   "outputs": [
    {
     "output_type": "stream",
     "name": "stdout",
     "text": "TP_COR_RACA         0.017553\nTP_NACIONALIDADE    0.000947\nTP_ESCOLA           0.688055\nTP_ST_CONCLUSAO     0.000000\nQ001                0.000000\nQ002                0.000000\nQ006                0.000000\nQ024                0.000000\nQ026                0.000000\nQ027                0.000000\nQ047                0.000000\nTP_SEXO             0.000000\nQ025                0.000000\ndtype: float64\n"
    }
   ],
   "source": [
    "print(train[cats].isnull().sum() / train.shape[0])\n",
    "train = train.drop('TP_ESCOLA',axis=1)\n",
    "test = test.drop('TP_ESCOLA',axis=1)\n",
    "cats.remove('TP_ESCOLA')"
   ]
  },
  {
   "cell_type": "code",
   "execution_count": 26,
   "metadata": {},
   "outputs": [],
   "source": [
    "from category_encoders.cat_boost import CatBoostEncoder"
   ]
  },
  {
   "cell_type": "code",
   "execution_count": 27,
   "metadata": {},
   "outputs": [],
   "source": [
    "X = train.drop('NU_NOTA_MT',axis=1)\n",
    "y = train['NU_NOTA_MT']\n"
   ]
  },
  {
   "cell_type": "code",
   "execution_count": 29,
   "metadata": {},
   "outputs": [],
   "source": [
    "cat_boost = CatBoostEncoder(cols=cats,drop_invariant=True,return_df=True,handle_missing='value')\n",
    "train_boosted = cat_boost.fit_transform(X,y)\n",
    "test_boosted = cat_boost.transform(test)"
   ]
  },
  {
   "cell_type": "code",
   "execution_count": 30,
   "metadata": {},
   "outputs": [],
   "source": [
    "# train_boosted.to_csv('data/train_preprocessed_boosted.csv')\n",
    "# test_boosted.to_csv('data/test_preprocessed_boosted.csv')"
   ]
  },
  {
   "cell_type": "code",
   "execution_count": 31,
   "metadata": {},
   "outputs": [
    {
     "output_type": "execute_result",
     "data": {
      "text/plain": "                                          CO_UF_RESIDENCIA  NU_IDADE  \\\nNU_INSCRICAO                                                           \ned50e8aaa58e7a806c337585efee9ca41f1eb1ad                43        24   \n2c3acac4b33ec2b195d77e7c04a2d75727fad723                23        17   \nf4545f8ccb9ff5c8aad7d32951b3f251a26e6568                23        21   \n3d6ec248fef899c414e77f82d5c6d2bffbeaf7fe                33        25   \nbf896ac8d3ecadd6dba1dfbf50110afcbf5d3268                13        28   \n\n                                             TP_SEXO  TP_COR_RACA  \\\nNU_INSCRICAO                                                        \ned50e8aaa58e7a806c337585efee9ca41f1eb1ad  356.092607   356.092607   \n2c3acac4b33ec2b195d77e7c04a2d75727fad723  356.092607   356.092607   \nf4545f8ccb9ff5c8aad7d32951b3f251a26e6568  407.946304   407.946304   \n3d6ec248fef899c414e77f82d5c6d2bffbeaf7fe  271.964202   356.092607   \nbf896ac8d3ecadd6dba1dfbf50110afcbf5d3268  377.746304   356.092607   \n\n                                          TP_NACIONALIDADE  TP_ST_CONCLUSAO  \\\nNU_INSCRICAO                                                                  \ned50e8aaa58e7a806c337585efee9ca41f1eb1ad        356.092607       356.092607   \n2c3acac4b33ec2b195d77e7c04a2d75727fad723        377.746304       356.092607   \nf4545f8ccb9ff5c8aad7d32951b3f251a26e6568        405.097536       356.092607   \n3d6ec248fef899c414e77f82d5c6d2bffbeaf7fe        303.823152       377.746304   \nbf896ac8d3ecadd6dba1dfbf50110afcbf5d3268        243.058521       251.830869   \n\n                                          TP_ANO_CONCLUIU  IN_TREINEIRO  \\\nNU_INSCRICAO                                                              \ned50e8aaa58e7a806c337585efee9ca41f1eb1ad                4             0   \n2c3acac4b33ec2b195d77e7c04a2d75727fad723                0             0   \nf4545f8ccb9ff5c8aad7d32951b3f251a26e6568                0             0   \n3d6ec248fef899c414e77f82d5c6d2bffbeaf7fe                9             0   \nbf896ac8d3ecadd6dba1dfbf50110afcbf5d3268                4             0   \n\n                                          NU_NOTA_CN  NU_NOTA_CH  ...  \\\nNU_INSCRICAO                                                      ...   \ned50e8aaa58e7a806c337585efee9ca41f1eb1ad       436.3       495.4  ...   \n2c3acac4b33ec2b195d77e7c04a2d75727fad723       474.5       544.1  ...   \nf4545f8ccb9ff5c8aad7d32951b3f251a26e6568         0.0         0.0  ...   \n3d6ec248fef899c414e77f82d5c6d2bffbeaf7fe         0.0         0.0  ...   \nbf896ac8d3ecadd6dba1dfbf50110afcbf5d3268         0.0         0.0  ...   \n\n                                                Q001        Q002        Q006  \\\nNU_INSCRICAO                                                                   \ned50e8aaa58e7a806c337585efee9ca41f1eb1ad  356.092607  356.092607  356.092607   \n2c3acac4b33ec2b195d77e7c04a2d75727fad723  356.092607  356.092607  356.092607   \nf4545f8ccb9ff5c8aad7d32951b3f251a26e6568  377.746304  377.746304  377.746304   \n3d6ec248fef899c414e77f82d5c6d2bffbeaf7fe  356.092607  356.092607  356.092607   \nbf896ac8d3ecadd6dba1dfbf50110afcbf5d3268  356.092607  251.830869  251.830869   \n\n                                                Q024        Q025        Q026  \\\nNU_INSCRICAO                                                                   \ned50e8aaa58e7a806c337585efee9ca41f1eb1ad  356.092607  356.092607  356.092607   \n2c3acac4b33ec2b195d77e7c04a2d75727fad723  377.746304  377.746304  356.092607   \nf4545f8ccb9ff5c8aad7d32951b3f251a26e6568  405.097536  405.097536  407.946304   \n3d6ec248fef899c414e77f82d5c6d2bffbeaf7fe  356.092607  356.092607  377.746304   \nbf896ac8d3ecadd6dba1dfbf50110afcbf5d3268  303.823152  303.823152  356.092607   \n\n                                                Q027        Q047  ATEND_ESPE1  \\\nNU_INSCRICAO                                                                    \ned50e8aaa58e7a806c337585efee9ca41f1eb1ad  356.092607  356.092607            0   \n2c3acac4b33ec2b195d77e7c04a2d75727fad723  356.092607  377.746304            0   \nf4545f8ccb9ff5c8aad7d32951b3f251a26e6568  407.946304  405.097536            0   \n3d6ec248fef899c414e77f82d5c6d2bffbeaf7fe  356.092607  356.092607            0   \nbf896ac8d3ecadd6dba1dfbf50110afcbf5d3268  178.046304  303.823152            0   \n\n                                          ATEND_ESPE2  \nNU_INSCRICAO                                           \ned50e8aaa58e7a806c337585efee9ca41f1eb1ad            0  \n2c3acac4b33ec2b195d77e7c04a2d75727fad723            0  \nf4545f8ccb9ff5c8aad7d32951b3f251a26e6568            0  \n3d6ec248fef899c414e77f82d5c6d2bffbeaf7fe            0  \nbf896ac8d3ecadd6dba1dfbf50110afcbf5d3268            0  \n\n[5 rows x 22 columns]",
      "text/html": "<div>\n<style scoped>\n    .dataframe tbody tr th:only-of-type {\n        vertical-align: middle;\n    }\n\n    .dataframe tbody tr th {\n        vertical-align: top;\n    }\n\n    .dataframe thead th {\n        text-align: right;\n    }\n</style>\n<table border=\"1\" class=\"dataframe\">\n  <thead>\n    <tr style=\"text-align: right;\">\n      <th></th>\n      <th>CO_UF_RESIDENCIA</th>\n      <th>NU_IDADE</th>\n      <th>TP_SEXO</th>\n      <th>TP_COR_RACA</th>\n      <th>TP_NACIONALIDADE</th>\n      <th>TP_ST_CONCLUSAO</th>\n      <th>TP_ANO_CONCLUIU</th>\n      <th>IN_TREINEIRO</th>\n      <th>NU_NOTA_CN</th>\n      <th>NU_NOTA_CH</th>\n      <th>...</th>\n      <th>Q001</th>\n      <th>Q002</th>\n      <th>Q006</th>\n      <th>Q024</th>\n      <th>Q025</th>\n      <th>Q026</th>\n      <th>Q027</th>\n      <th>Q047</th>\n      <th>ATEND_ESPE1</th>\n      <th>ATEND_ESPE2</th>\n    </tr>\n    <tr>\n      <th>NU_INSCRICAO</th>\n      <th></th>\n      <th></th>\n      <th></th>\n      <th></th>\n      <th></th>\n      <th></th>\n      <th></th>\n      <th></th>\n      <th></th>\n      <th></th>\n      <th></th>\n      <th></th>\n      <th></th>\n      <th></th>\n      <th></th>\n      <th></th>\n      <th></th>\n      <th></th>\n      <th></th>\n      <th></th>\n      <th></th>\n    </tr>\n  </thead>\n  <tbody>\n    <tr>\n      <th>ed50e8aaa58e7a806c337585efee9ca41f1eb1ad</th>\n      <td>43</td>\n      <td>24</td>\n      <td>356.092607</td>\n      <td>356.092607</td>\n      <td>356.092607</td>\n      <td>356.092607</td>\n      <td>4</td>\n      <td>0</td>\n      <td>436.3</td>\n      <td>495.4</td>\n      <td>...</td>\n      <td>356.092607</td>\n      <td>356.092607</td>\n      <td>356.092607</td>\n      <td>356.092607</td>\n      <td>356.092607</td>\n      <td>356.092607</td>\n      <td>356.092607</td>\n      <td>356.092607</td>\n      <td>0</td>\n      <td>0</td>\n    </tr>\n    <tr>\n      <th>2c3acac4b33ec2b195d77e7c04a2d75727fad723</th>\n      <td>23</td>\n      <td>17</td>\n      <td>356.092607</td>\n      <td>356.092607</td>\n      <td>377.746304</td>\n      <td>356.092607</td>\n      <td>0</td>\n      <td>0</td>\n      <td>474.5</td>\n      <td>544.1</td>\n      <td>...</td>\n      <td>356.092607</td>\n      <td>356.092607</td>\n      <td>356.092607</td>\n      <td>377.746304</td>\n      <td>377.746304</td>\n      <td>356.092607</td>\n      <td>356.092607</td>\n      <td>377.746304</td>\n      <td>0</td>\n      <td>0</td>\n    </tr>\n    <tr>\n      <th>f4545f8ccb9ff5c8aad7d32951b3f251a26e6568</th>\n      <td>23</td>\n      <td>21</td>\n      <td>407.946304</td>\n      <td>407.946304</td>\n      <td>405.097536</td>\n      <td>356.092607</td>\n      <td>0</td>\n      <td>0</td>\n      <td>0.0</td>\n      <td>0.0</td>\n      <td>...</td>\n      <td>377.746304</td>\n      <td>377.746304</td>\n      <td>377.746304</td>\n      <td>405.097536</td>\n      <td>405.097536</td>\n      <td>407.946304</td>\n      <td>407.946304</td>\n      <td>405.097536</td>\n      <td>0</td>\n      <td>0</td>\n    </tr>\n    <tr>\n      <th>3d6ec248fef899c414e77f82d5c6d2bffbeaf7fe</th>\n      <td>33</td>\n      <td>25</td>\n      <td>271.964202</td>\n      <td>356.092607</td>\n      <td>303.823152</td>\n      <td>377.746304</td>\n      <td>9</td>\n      <td>0</td>\n      <td>0.0</td>\n      <td>0.0</td>\n      <td>...</td>\n      <td>356.092607</td>\n      <td>356.092607</td>\n      <td>356.092607</td>\n      <td>356.092607</td>\n      <td>356.092607</td>\n      <td>377.746304</td>\n      <td>356.092607</td>\n      <td>356.092607</td>\n      <td>0</td>\n      <td>0</td>\n    </tr>\n    <tr>\n      <th>bf896ac8d3ecadd6dba1dfbf50110afcbf5d3268</th>\n      <td>13</td>\n      <td>28</td>\n      <td>377.746304</td>\n      <td>356.092607</td>\n      <td>243.058521</td>\n      <td>251.830869</td>\n      <td>4</td>\n      <td>0</td>\n      <td>0.0</td>\n      <td>0.0</td>\n      <td>...</td>\n      <td>356.092607</td>\n      <td>251.830869</td>\n      <td>251.830869</td>\n      <td>303.823152</td>\n      <td>303.823152</td>\n      <td>356.092607</td>\n      <td>178.046304</td>\n      <td>303.823152</td>\n      <td>0</td>\n      <td>0</td>\n    </tr>\n  </tbody>\n</table>\n<p>5 rows × 22 columns</p>\n</div>"
     },
     "metadata": {},
     "execution_count": 31
    }
   ],
   "source": [
    "train_boosted.head()"
   ]
  },
  {
   "cell_type": "code",
   "execution_count": 32,
   "metadata": {},
   "outputs": [],
   "source": [
    "from tpot import TPOTRegressor"
   ]
  },
  {
   "cell_type": "code",
   "execution_count": 33,
   "metadata": {
    "tags": []
   },
   "outputs": [
    {
     "output_type": "stream",
     "name": "stdout",
     "text": "Optimization Progress:  10%|▉         | 100/1050 [09:43<1:23:04,  5.25s/pipeline]\nOptimization Progress:  14%|█▎        | 144/1050 [15:44<1:53:08,  7.49s/pipeline]\nOptimization Progress:  19%|█▉        | 199/1050 [23:18<2:11:39,  9.28s/pipeline]\nOptimization Progress:  23%|██▎       | 243/1050 [30:40<2:26:50, 10.92s/pipeline]\nOptimization Progress:  28%|██▊       | 294/1050 [39:05<2:27:00, 11.67s/pipeline]\nOptimization Progress:  33%|███▎      | 351/1050 [53:41<2:36:25, 13.43s/pipeline]\nOptimization Progress:  38%|███▊      | 394/1050 [1:06:28<4:08:15, 22.71s/pipeline]\nOptimization Progress:  43%|████▎     | 450/1050 [1:16:50<2:16:59, 13.70s/pipeline]\nOptimization Progress:  48%|████▊     | 504/1050 [1:39:06<3:58:51, 26.25s/pipeline]\nOptimization Progress:  53%|█████▎    | 555/1050 [1:57:03<3:24:10, 24.75s/pipeline]\nOptimization Progress:  58%|█████▊    | 606/1050 [2:10:47<2:38:06, 21.37s/pipeline]\nOptimization Progress:  63%|██████▎   | 657/1050 [2:24:03<1:35:48, 14.63s/pipeline]\nOptimization Progress:  67%|██████▋   | 707/1050 [2:37:18<1:35:13, 16.66s/pipeline]\nOptimization Progress:  72%|███████▏  | 756/1050 [2:59:31<2:40:21, 32.72s/pipeline]\nOptimization Progress:  76%|███████▋  | 801/1050 [3:15:07<2:10:44, 31.50s/pipeline]\nOptimization Progress:  82%|████████▏ | 858/1050 [3:42:00<1:43:25, 32.32s/pipeline]\nOptimization Progress:  86%|████████▋ | 908/1050 [4:03:39<1:07:19, 28.45s/pipeline]\nOptimization Progress:  91%|█████████ | 954/1050 [4:30:21<55:04, 34.42s/pipeline]\nOptimization Progress:  96%|█████████▋| 1012/1050 [4:54:28<18:21, 28.98s/pipeline]\nOptimization Progress: 1060pipeline [5:24:25, 39.01s/pipeline]\nGeneration 20 - Current best internal CV score: 0.926344109278679\nBest pipeline: RandomForestRegressor(OneHotEncoder(CombineDFs(GradientBoostingRegressor(input_matrix, alpha=0.9, learning_rate=0.01, loss=huber, max_depth=4, max_features=0.15000000000000002, min_samples_leaf=7, min_samples_split=13, n_estimators=100, subsample=0.25), MinMaxScaler(PolynomialFeatures(ElasticNetCV(input_matrix, l1_ratio=0.75, tol=0.001), degree=2, include_bias=False, interaction_only=False))), minimum_fraction=0.2, sparse=False, threshold=10), bootstrap=True, max_features=0.4, min_samples_leaf=16, min_samples_split=14, n_estimators=100)\n"
    },
    {
     "output_type": "execute_result",
     "data": {
      "text/plain": "TPOTRegressor(generations=20,\n              log_file=<ipykernel.iostream.OutStream object at 0x7f1abbae30d0>,\n              n_jobs=3, population_size=50, random_state=42, scoring='r2',\n              verbosity=2)"
     },
     "metadata": {},
     "execution_count": 33
    }
   ],
   "source": [
    "pipeline_optimizer = TPOTRegressor(generations=20, population_size=50,scoring='r2',n_jobs=3,random_state=42,verbosity=2)\n",
    "pipeline_optimizer.fit(train_boosted,y)"
   ]
  },
  {
   "cell_type": "code",
   "execution_count": 34,
   "metadata": {},
   "outputs": [
    {
     "output_type": "execute_result",
     "data": {
      "text/plain": "0.9540737989363166"
     },
     "metadata": {},
     "execution_count": 34
    }
   ],
   "source": [
    "pipeline_optimizer.score(train_boosted, y)"
   ]
  },
  {
   "cell_type": "code",
   "execution_count": 35,
   "metadata": {},
   "outputs": [],
   "source": [
    "pipeline_optimizer.export('tpot_exported_pipeline.py')"
   ]
  },
  {
   "cell_type": "markdown",
   "metadata": {},
   "source": [
    "# Arquivo de submissão"
   ]
  },
  {
   "cell_type": "code",
   "execution_count": 41,
   "metadata": {},
   "outputs": [],
   "source": [
    "y_test_predict = pipeline_optimizer.predict(test_boosted)"
   ]
  },
  {
   "cell_type": "code",
   "execution_count": 42,
   "metadata": {},
   "outputs": [
    {
     "output_type": "execute_result",
     "data": {
      "text/plain": "                               NU_INSCRICAO NU_NOTA_MT\n0  73ff9fcc02f0a99919906c942c2e1a1042cdcf98    432.655\n1  71a95f9f1b91a82c65ad94abbdf9f54e6066f968    449.625\n2  b38a03232f43b11c9d0788abaf060f7366053b6d    596.478\n3  70b682d9a3636be23f6120fa9d6b164eb3c6002d          0\n4  715494628a50142ce8cb17191cfe6d0f3cae0934     551.27",
      "text/html": "<div>\n<style scoped>\n    .dataframe tbody tr th:only-of-type {\n        vertical-align: middle;\n    }\n\n    .dataframe tbody tr th {\n        vertical-align: top;\n    }\n\n    .dataframe thead th {\n        text-align: right;\n    }\n</style>\n<table border=\"1\" class=\"dataframe\">\n  <thead>\n    <tr style=\"text-align: right;\">\n      <th></th>\n      <th>NU_INSCRICAO</th>\n      <th>NU_NOTA_MT</th>\n    </tr>\n  </thead>\n  <tbody>\n    <tr>\n      <th>0</th>\n      <td>73ff9fcc02f0a99919906c942c2e1a1042cdcf98</td>\n      <td>432.655</td>\n    </tr>\n    <tr>\n      <th>1</th>\n      <td>71a95f9f1b91a82c65ad94abbdf9f54e6066f968</td>\n      <td>449.625</td>\n    </tr>\n    <tr>\n      <th>2</th>\n      <td>b38a03232f43b11c9d0788abaf060f7366053b6d</td>\n      <td>596.478</td>\n    </tr>\n    <tr>\n      <th>3</th>\n      <td>70b682d9a3636be23f6120fa9d6b164eb3c6002d</td>\n      <td>0</td>\n    </tr>\n    <tr>\n      <th>4</th>\n      <td>715494628a50142ce8cb17191cfe6d0f3cae0934</td>\n      <td>551.27</td>\n    </tr>\n  </tbody>\n</table>\n</div>"
     },
     "metadata": {},
     "execution_count": 42
    }
   ],
   "source": [
    "answer=pd.DataFrame(data=np.transpose([test.index,y_test_predict]),columns=['NU_INSCRICAO','NU_NOTA_MT'])\n",
    "answer.head()"
   ]
  },
  {
   "cell_type": "code",
   "execution_count": 43,
   "metadata": {},
   "outputs": [],
   "source": [
    "answer.to_csv('data/answer.csv',index=False)"
   ]
  }
 ],
 "metadata": {
  "kernelspec": {
   "display_name": "Python 3",
   "language": "python",
   "name": "python3"
  },
  "language_info": {
   "codemirror_mode": {
    "name": "ipython",
    "version": 3
   },
   "file_extension": ".py",
   "mimetype": "text/x-python",
   "name": "python",
   "nbconvert_exporter": "python",
   "pygments_lexer": "ipython3",
   "version": "3.7.6-final"
  }
 },
 "nbformat": 4,
 "nbformat_minor": 4
}